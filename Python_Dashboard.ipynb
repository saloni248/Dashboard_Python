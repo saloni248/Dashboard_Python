{
 "cells": [
  {
   "cell_type": "markdown",
   "id": "97790a37-32e9-4fcb-ad97-50bc9c798a78",
   "metadata": {},
   "source": [
    "# PROJECT INFORMATION"
   ]
  },
  {
   "cell_type": "markdown",
   "id": "acdb0589-0dd1-4052-a3d5-34269d488eb2",
   "metadata": {},
   "source": [
    "**Project Title - Data Exploration with Python using Pandas & Numpy Libraries**"
   ]
  },
  {
   "cell_type": "markdown",
   "id": "19ddfef0-e547-4fdd-8e6b-bfb15dba6426",
   "metadata": {},
   "source": [
    "Student Name - Saloni Gupta  ||\n",
    "Enrollment Number - 055039 "
   ]
  },
  {
   "cell_type": "markdown",
   "id": "188a798d-5240-4d95-ae68-daac2cbebc1b",
   "metadata": {},
   "source": [
    "## About Dataset\n",
    "**Title:** Detailed Imports and Exports Dataset with Comprehensive Transaction Information\n",
    "\n",
    "**Description:**\n",
    "\n",
    "This dataset provides detailed information on international trade transactions, capturing both import and export activities. It includes comprehensive data on various aspects of trade, making it a valuable resource for business analysis, economic research, and financial modeling.\n",
    "\n",
    "**Features:**\n",
    "\n",
    "* **Transaction_ID:** Unique identifier for each trade transaction.\n",
    "* **Country:** Country of origin or destination for the trade.\n",
    "* **Product:** Product being traded.\n",
    "* **Import_Export:** Indicates whether the transaction is an import or export.\n",
    "* **Quantity:** Amount of the product traded.\n",
    "* **Value:** Monetary value of the product in USD.\n",
    "* **Date:** Date of the transaction.\n",
    "* **Category:** Category of the product (e.g., Electronics, Clothing, Machinery).\n",
    "* **Port:** Port of entry or departure.\n",
    "* **Customs_Code:** Customs or HS code for product classification.\n",
    "* **Weight:** Weight of the product in kilograms.\n",
    "* **Shipping_Method:** Method used for shipping (e.g., Air, Sea, Land).\n",
    "* **Supplier:** Name of the supplier or manufacturer.\n",
    "* **Customer:** Name of the customer or recipient.\n",
    "* **Invoice_Number:** Unique invoice number for the transaction.\n",
    "* **Payment_Terms:** Terms of payment (e.g., Net 30, Net 60, Cash on Delivery).\n",
    "\n",
    "\n",
    "\n",
    "\n",
    "***Usage:*** This dataset can be used for various analyses, including:\n",
    "\n",
    "\n",
    "* **Trade Analysis:** Understanding trade patterns and trends.\n",
    "* **Economic Research:** Studying the impact of trade on different economies.\n",
    "* **Financial Modeling:** Evaluating financial performance and risks associated with trade.\n",
    "* **Supply Chain Management:** Analyzing logistics and shipping methods."
   ]
  },
  {
   "cell_type": "markdown",
   "id": "95a5a27c-5602-4756-890f-5fe36aad1e03",
   "metadata": {},
   "source": [
    "**Variable Types:**\n",
    "1) **Text** - Transaction_ID, Country, Product, Import_Export, Date, Category, Port, Shipping_Method, Supplier, Customer, Payment_Terms\n",
    "2) **Number- Integer** - Quantity, Customs_Code, Invoice_Number\n",
    "3) **Number- Decimals** - Value, Weight"
   ]
  },
  {
   "cell_type": "markdown",
   "id": "5471af0a-762f-44ad-a18d-665a62a6bd0a",
   "metadata": {},
   "source": [
    "**Data Variable Category:**\n",
    "1. **Index**- Transaction_ID, Customs_Code, Invoice_Number, Product, Supplier, Customer\n",
    "2. **Categorical- Nominal** - Import_Export, Category, Shipping_Method, Payment_Terms, Country\n",
    "3. **Categorical- Ordinal** - \n",
    "4. **Non-Categorical**-  Quantity, Value, Date, Port, Weight"
   ]
  },
  {
   "cell_type": "markdown",
   "id": "593fdf60-a962-46c3-aff7-64ba296c4a24",
   "metadata": {},
   "source": [
    "\n",
    "# Problem Statement:\n",
    "\n",
    "-> The dataset utilized in this analysis comprises comprehensive information on imports and exports, encapsulating a wide array of trade statistics. Our primary objective is to systematically explore, analyze, and visualize this dataset in order to unearth meaningful patterns and insights that pertain to global trade dynamics. \n",
    "\n",
    "-> To achieve this, we will engage in a thorough data wrangling process, which will involve cleaning, transforming, and structuring the dataset to prepare it for analysis. This phase will include handling missing values, correcting data types, and ensuring consistency across various fields. \n",
    "\n",
    "-> Once the data is appropriately structured, we will leverage a variety of visualization techniques to represent the trade statistics visually. Through the creation of graphs, charts, and interactive visualizations, we aim to present complex information in an accessible format, allowing for easier interpretation and understanding of the data.\n",
    "\n",
    "-> Our analysis will focus on key performance indicators related to trade, such as the total value of imports and exports, the distribution of trade across different categories and countries, and trends over time. By applying various analytical methods, we will identify significant trends, correlations, and anomalies within the dataset.\n",
    "\n",
    "-> Ultimately, our goal is to derive actionable insights that can inform decision-making for stakeholders involved in trade, policy-making, and economic development. These insights will help in understanding trade patterns, optimizing trade strategies, and identifying opportunities for growth in the import/export sector.\n",
    "\n",
    "---\n",
    "\n",
    "Feel free to adjust any parts to better fit your voice or specific focus areas!\n"
   ]
  },
  {
   "cell_type": "markdown",
   "id": "99def56c-8027-4efe-807d-42f2c6b3c521",
   "metadata": {},
   "source": [
    "Here’s a refined list of your objectives with proper formatting:\n",
    "\n",
    "# Objectives\n",
    "\n",
    "1. **Data Loading and Inspection**: Load the dataset and conduct an initial inspection to understand its structure and contents.\n",
    "\n",
    "2. **Data Cleaning**: Clean the dataset to address issues such as missing values, duplicates, and inconsistencies to ensure data quality.\n",
    "\n",
    "3. **Data Sampling**: Select a representative sample from the dataset to facilitate efficient analysis and visualization.\n",
    "\n",
    "4. **Creating Dashboard**: Develop an interactive dashboard to present the visualizations and insights derived from the data analysis.\n",
    "\n",
    "5. **Feature Engineering**: Create new features from existing data that can enhance the analysis and improve the accuracy of any predictive models.\n",
    "\n",
    "6. **Insights and Recommendations**: Analyze the processed data to uncover meaningful insights and provide actionable recommendations based on the findings.\n",
    "\n",
    "Feel free to let me know if you'd like to make any changes or additions!\n",
    "\n",
    "---"
   ]
  },
  {
   "cell_type": "markdown",
   "id": "359e5359-8525-419e-a107-18f442549a20",
   "metadata": {},
   "source": [
    "# Analysis\n",
    "## Analysis of Top 10 Categories by Import and Export Value\r\n",
    "\r\n",
    "### Import Value:\r\n",
    "\r\n",
    "* **Furniture** is the top imported category, followed by **Machinery** and **Clothing**.\r\n",
    "* **Toys** have the lowest import value among the top 10 categories.\r\n",
    "\r\n",
    "### Export Value:\r\n",
    "\r\n",
    "* **Clothing** is the top exported category, followed by **Electronics** and **Furniture**.\r\n",
    "* **Machinery** and **Toys** have lower export values compared to the other categories.\r\n",
    "\r\n",
    "### Key Observations:\r\n",
    "\r\n",
    "* There's a notable difference in the top categories for imports and exports.\r\n",
    "* **Furniture** and **Machinery** are significant import categories but have lower export values.\r\n",
    "* **Clothing** and **Electronics** are major export categories but have lower import values.\r\n",
    "* **Toys** consistently rank lower in both import an\n",
    "## Analysis of Pie Chart Graphs\n",
    "\r\n",
    "### Pie Chart 1: Proportion of Transactions by Import/Export Type\r\n",
    "\r\n",
    "* **Sea** accounts for 34% of transactions, followed by **Air** at 33.5%, and **Land** at 32.5%.\r\n",
    "* This suggests that **Sea** transportation is the most commonly used mode for both imports and exports.\r\n",
    "\r\n",
    "### Pie Chart 2: Proportion of Transactions by Import/Export Type\r\n",
    "\r\n",
    "* **Exports** slightly outnumber **Imports**, with 50.1% of transactions being exports and 49.9% being imports.\r\n",
    "\r\n",
    "### Key Observations:\r\n",
    "\r\n",
    "* **Sea** is the dominant mode of transportation for both imports and exports.\r\n",
    "* There's a slight imbalance between imports and exports, with exports being slightly mo\n",
    "## Analysis of Payment Mode Bar Chart\r\n",
    "\r\n",
    "### Key Observations:\r\n",
    "\r\n",
    "* **Net 60** is the most preferred payment mode, followed closely by **Cash on Delivery**, **Net 30**, and **Prepaid**.\r\n",
    "* There is a relatively small difference in the number of transactions for each payment mode, indicating a fairly balanced distribution of preferences.\r\n",
    "\r\n",
    "### Possible Interpretations:\r\n",
    "\r\n",
    "* **Flexibility:** Customers might prefer payment terms like **Net 60** and **Net 30** due to the flexibility they offer in making payments.\r\n",
    "* **Trust and Convenience:** **Cash on Delivery** might be popular due to the trust and convenience it provides, especially for online purchases.\r\n",
    "* **Cost-Effectiveness:** **Prepaid** payments might be less preferred if there are associated fees or res\n",
    "## Analysis of Customer-wise Highest Import/Export Transactions Chart\r\n",
    "\r\n",
    "### Key Observations:\r\n",
    "\r\n",
    "* **Michael Johnson** has the highest total transaction value, with a significant portion attributed to **Exports**.\r\n",
    "* **Cynthia Martinez**, **Madison Torres**, and **Scott Martinez** also have high transaction values, with a mix of **Imports** and **Exports**.\r\n",
    "* **Michael Miller**, **Lisa Wilson**, **Michael Hernandez**, **Charles Hill**, **Michael Brown**, and **James Murphy** have lower overall transaction values.\r\n",
    "* **Michael Hernandez** has the highest **Import** value among the customers.\r\n",
    "* **Michael Johnson** and **Cynthia Martinez** have the highest **Export** \n",
    "## Analysis of the Bubble Chart: Transaction Count vs. Total Value by Category\n",
    "\n",
    "### Key Observations:\n",
    "\n",
    "* **Electronics** has the highest transaction count and total value, followed by **Clothing**.\n",
    "* **Furniture**, **Machinery**, and **Toys** have lower transaction counts and total values.\n",
    "* The size of each bubble represents the transaction count, while the color indicates the category.\n",
    "\n",
    "### Interpretations:\n",
    "\n",
    "* **Electronics** might be a popular and high-value product category with a large number of transactions.\n",
    "* **Clothing** might also be a popular category, but with slightly lower transaction counts and total values.\n",
    "* **Furniture**, **Machinery**, and **Toys** might be less popular or have lower transaction values.\n",
    "\n",
    "## Analysis of the Tree Map Chart\n",
    "\n",
    "The treemap chart visualizes the total import and export values across product categories. Categories like clothing and electronics occupy the largest blocks, highlighting their significant contributions to trade. Smaller categories, such as furniture or automobile parts, have smaller blocks, indicating lower transaction values.*\n",
    "### Key Observations:\n",
    "\n",
    "* **Furniture** has the largest total import/export value, followed by **Clothing** and **Machinery**.\n",
    "* **Electronics** and **Toys** have lower total import/export values.\n",
    "* The color gradient indicates the relative size of each category's value.\n",
    "\n",
    "## Sunburst Chart Analysis\r\n",
    "\r\n",
    "The sunburst chart breaks down import and export values by category, providing a hierarchical view of trade activities. Furnitureng * remain dominant across both imports and exports, while categories like **machinery** and Clothingre** show notable contributionsectors.\n",
    "### Key Observations:\n",
    "\n",
    "* **Furniture** has the largest total import/export value, followed by **Clothing** and **Machinery**.\n",
    "* **Electronics** and **Toys** have lower total import/export values.\n",
    "* The color gradient indicates the relative size of each category's value.\n",
    "* The chart provides a hierarchical view of the data, showing the breakdown of import/export values within each cat\n",
    "### Box Plot Analysis\r\n",
    "\r\n",
    "The box plot visualizes the distribution of transaction values across different shipping methods, highlighting key trends and outliers. \r\n",
    "\r\n",
    "**Key Insights**:\r\n",
    "1. **Air Freight** and **Sea Freight** methods show a broader range of transaction values, indicating high variability in the size and value of transactions.\r\n",
    "2. **Courier** transactions have smaller and more consistent transaction values.\r\n",
    "3. The presence of outliers in **Sea Freight** transactions suggests occasional high-value shipments that require further investigation, potentially signaling important customers or shipments. \r\n",
    "\r\n",
    "This analysis can guide optimization in logistics and customer service st\n",
    "rategies.\n",
    "### Correlation Heatmap Analysis\r\n",
    "\r\n",
    "The correlation heatmap provides insight into the relationships between key numerical features such as **Quantity**, **Value**, and **Weight** of transactions.\r\n",
    "\r\n",
    "**Key Insights**:\r\n",
    "1. A strong positive correlation between **Value** and **Weight** suggests that higher-value transactions are typically associated with heavier shipments.\r\n",
    "2. The moderate correlation between **Quantity** and **Value** implies that while larger quantities contribute to higher transaction values, the relationship is not as strong, indicating some high-value transactions involve smaller quantities.\r\n",
    "\r\n",
    "This helps guide resource allocation and pricing strategies.egory.\n",
    "iness decision-making.ould be relevant.nd transportation choices. industry in the country."
   ]
  },
  {
   "cell_type": "markdown",
   "id": "e4af7eee-be6c-4774-b4ff-97e0e1d3935c",
   "metadata": {},
   "source": [
    "## Overall Managerial Insights\n",
    "\n",
    "\r\n",
    "#### 1. **Category Performance Insights**\r\n",
    "   - **Key Finding**: Clothing, electronics, and machinery categories show the highest import/export values. Clothing alone represents a substantial portion of the overall trade, driven by consumer demand.\r\n",
    "   - **Recommendation**: Prioritize inventory management and supplier negotiations for these high-value categories. Consider developing exclusive relationships with high-performing suppliers to lock in competitive prices and guarantee consistent supply.\r\n",
    "\r\n",
    "#### 2. **Customer-Centric Focus**\r\n",
    "   - **Key Finding**: A handful of customers dominate import/export transactions, with the top 10 contributing the bulk of trade value.\r\n",
    "   - **Recommendation**: Implement a tiered customer loyalty program to reward high-value customers. Personalized offers, bulk pricing, and dedicated account management could encourage repeat business, solidifying long-term partnerships.\r\n",
    "\r\n",
    "#### 3. **Shipping Method Preferences**\r\n",
    "   - **Key Finding**: A significant preference exists for certain shipping methods, which could relate to cost efficiency, speed, or customer preference.\r\n",
    "   - **Recommendation**: Assess shipping partners to optimize logistics, ensuring fast delivery times at competitive prices. Regularly review and refine shipping contracts based on customer feedback and shipping performance.\r\n",
    "\r\n",
    "#### 4. **Balanced Trade Activity**\r\n",
    "   - **Key Finding**: The nearly equal split between imports and exports reflects a well-balanced trade portfolio. This suggests potential resilience to market volatility and opportunities to grow both arms of the business.\r\n",
    "   - **Recommendation**: Strengthen partnerships in regions showing trade growth for both imports and exports. Diversify the product portfolio, maintaining a balance to mitigate the risk of market-specific downturns.\r\n",
    "\r\n",
    "#### 5. **Shipping and Payment Flexibility**\r\n",
    "   - **Key Finding**: Cash on delivery and flexible payment terms (Net 30, Net 60) are popular. This signals the importance of trust and flexible payment conditions in this trading ecosystem.\r\n",
    "   - **Recommendation**: Continue offering flexible payment solutions, but carefully monitor credit risks. Implement predictive analytics to identify customers likely to default, and adjust payment terms or offer incentives for early payment.\r\n",
    "\r\n",
    "#### 6. **Regional Trade Analysis**\r\n",
    "   - **Key Finding**: The treemap and sunburst charts suggest geographical concentrations in certain product categories. Different regions seem to favor certain product lines over others.\r\n",
    "   - **Recommendation**: Tailor marketing strategies for regional markets based on product popularity. Create localized advertising and outreach campaigns, aligning with regional buying habits.\r\n",
    "\r\n",
    "#### 7. **Risk Management in Payment Terms**\r\n",
    "   - **Key Finding**: With different payment terms being used (including extended terms), there is an inherent risk in cash flow management.\r\n",
    "   - **Recommendation**: Strengthen credit control measures by offering discounts for upfront payments or shorter credit terms. Regularly monitor accounts receivable and use credit scoring to minimize bad debt.\r\n",
    "\r\n",
    "#### 8. **Value vs. Transaction Count**\r\n",
    "   - **Key Finding**: The bubble chart analysis reveals that certain categories have a higher transaction count but a lower value, and vice versa.\r\n",
    "   - **Recommendation**: For categories with high transaction counts but lower values, bundle products to increase the average transaction value. For high-value transactions with low frequency, explore ways to streamline the buying process to encourage more frequent purchases.\r\n",
    "\r\n",
    "#### 9. **Diversification Opportunities**\r\n",
    "   - **Key Finding**: Certain categories show lower performance but may hold untapped potential.\r\n",
    "   - **Recommendation**: Conduct market research to explore growth opportunities in underperforming categories. Identify new suppliers, improve product visibility, or introduce targeted promotions to boost sales.\r\n",
    "\r\n",
    "#### 10. **Data-Driven Strategy**\r\n",
    "   - **Key Finding**: Regular analysis of transaction values, customer behavior, and shipping preferences reveals actionable insights that can drive future growth.\r\n",
    "   - **Recommendation**: Establish a continuous data-driven decision-making process to stay agile in a dynamic market. Use dashboards to monitor key performance indicators (KPIs) regularly and adjust strategies based on real-time data.\r\n",
    "\r\n",
    "### Conclusion\r\n",
    "The comprehensive analysis of imports and exports through this dashboard reveals critical insights into category performance, customer behavior, and logistical trends. By leveraging this data, management can fine-tune its strategies to optimize operations, enhance customer relationships, and drive sustained growth. Regular review of these metrics will help the business adapt to changing market dynamics, ensuring long-term success and competitiveness."
   ]
  },
  {
   "cell_type": "code",
   "execution_count": 11,
   "id": "63b63755-9def-43fb-8102-27b8682df31b",
   "metadata": {},
   "outputs": [],
   "source": [
    "# Import Relevant Python Libraries.\n",
    "import numpy as np\n",
    "import pandas as pd\n",
    "import numpy as np\n",
    "import pandas as pd\n",
    "import scipy.stats as stats\n",
    "from scipy.stats import norm\n",
    "import matplotlib.pyplot as plt\n",
    "import seaborn as sns"
   ]
  },
  {
   "cell_type": "code",
   "execution_count": 13,
   "id": "3914bbae-e65d-4943-9742-bf645605caa1",
   "metadata": {},
   "outputs": [],
   "source": [
    "# Q1. Load the Test Data.\n",
    "data=pd.read_csv(r\"C:\\Users\\salon\\Downloads\\archive\\Imports_Exports_Dataset.csv\")"
   ]
  },
  {
   "cell_type": "code",
   "execution_count": 15,
   "id": "1c55fbf0-4e70-4b6b-90f2-ddebd2a2459c",
   "metadata": {},
   "outputs": [
    {
     "data": {
      "text/plain": [
       "(15000, 16)"
      ]
     },
     "execution_count": 15,
     "metadata": {},
     "output_type": "execute_result"
    }
   ],
   "source": [
    "# Q2. Display the Dimensions of Test Data.\n",
    "data.shape"
   ]
  },
  {
   "cell_type": "code",
   "execution_count": 17,
   "id": "0b70d970-74b8-4a72-b012-b9dea4e0bc4b",
   "metadata": {},
   "outputs": [
    {
     "data": {
      "text/html": [
       "<div>\n",
       "<style scoped>\n",
       "    .dataframe tbody tr th:only-of-type {\n",
       "        vertical-align: middle;\n",
       "    }\n",
       "\n",
       "    .dataframe tbody tr th {\n",
       "        vertical-align: top;\n",
       "    }\n",
       "\n",
       "    .dataframe thead th {\n",
       "        text-align: right;\n",
       "    }\n",
       "</style>\n",
       "<table border=\"1\" class=\"dataframe\">\n",
       "  <thead>\n",
       "    <tr style=\"text-align: right;\">\n",
       "      <th></th>\n",
       "      <th>Transaction_ID</th>\n",
       "      <th>Country</th>\n",
       "      <th>Product</th>\n",
       "      <th>Import_Export</th>\n",
       "      <th>Quantity</th>\n",
       "      <th>Value</th>\n",
       "      <th>Date</th>\n",
       "      <th>Category</th>\n",
       "      <th>Port</th>\n",
       "      <th>Customs_Code</th>\n",
       "      <th>Weight</th>\n",
       "      <th>Shipping_Method</th>\n",
       "      <th>Supplier</th>\n",
       "      <th>Customer</th>\n",
       "      <th>Invoice_Number</th>\n",
       "      <th>Payment_Terms</th>\n",
       "    </tr>\n",
       "  </thead>\n",
       "  <tbody>\n",
       "    <tr>\n",
       "      <th>0</th>\n",
       "      <td>e3e70682-c209-4cac-a29f-6fbed82c07cd</td>\n",
       "      <td>Colombia</td>\n",
       "      <td>describe</td>\n",
       "      <td>Export</td>\n",
       "      <td>1979</td>\n",
       "      <td>9506.57</td>\n",
       "      <td>07-12-2023</td>\n",
       "      <td>Machinery</td>\n",
       "      <td>Robertbury</td>\n",
       "      <td>620537</td>\n",
       "      <td>4248.65</td>\n",
       "      <td>Air</td>\n",
       "      <td>Garrison, Hubbard and Hendricks</td>\n",
       "      <td>Seth Hall</td>\n",
       "      <td>21000294</td>\n",
       "      <td>Cash on Delivery</td>\n",
       "    </tr>\n",
       "    <tr>\n",
       "      <th>1</th>\n",
       "      <td>f728b4fa-4248-4e3a-8a5d-2f346baa9455</td>\n",
       "      <td>Chile</td>\n",
       "      <td>president</td>\n",
       "      <td>Export</td>\n",
       "      <td>5763</td>\n",
       "      <td>7100.91</td>\n",
       "      <td>04-04-2023</td>\n",
       "      <td>Clothing</td>\n",
       "      <td>Shahport</td>\n",
       "      <td>927600</td>\n",
       "      <td>4340.81</td>\n",
       "      <td>Air</td>\n",
       "      <td>Webb-Mack</td>\n",
       "      <td>Kimberly Ryan</td>\n",
       "      <td>88738432</td>\n",
       "      <td>Prepaid</td>\n",
       "    </tr>\n",
       "    <tr>\n",
       "      <th>2</th>\n",
       "      <td>eb1167b3-67a9-4378-bc65-c1e582e2e662</td>\n",
       "      <td>Turkey</td>\n",
       "      <td>far</td>\n",
       "      <td>Import</td>\n",
       "      <td>5740</td>\n",
       "      <td>2450.34</td>\n",
       "      <td>21-08-2024</td>\n",
       "      <td>Electronics</td>\n",
       "      <td>South Joshuatown</td>\n",
       "      <td>299258</td>\n",
       "      <td>4538.41</td>\n",
       "      <td>Air</td>\n",
       "      <td>Mendez, Jones and Johnson</td>\n",
       "      <td>Ryan Silva</td>\n",
       "      <td>89922099</td>\n",
       "      <td>Prepaid</td>\n",
       "    </tr>\n",
       "    <tr>\n",
       "      <th>3</th>\n",
       "      <td>f7c1bd87-4da5-4709-9471-3d60c8a70639</td>\n",
       "      <td>Christmas Island</td>\n",
       "      <td>agency</td>\n",
       "      <td>Export</td>\n",
       "      <td>2592</td>\n",
       "      <td>7226.42</td>\n",
       "      <td>09-05-2022</td>\n",
       "      <td>Furniture</td>\n",
       "      <td>Adamfort</td>\n",
       "      <td>996084</td>\n",
       "      <td>4886.14</td>\n",
       "      <td>Air</td>\n",
       "      <td>Schroeder-Smith</td>\n",
       "      <td>Jacob Gray</td>\n",
       "      <td>63216265</td>\n",
       "      <td>Net 60</td>\n",
       "    </tr>\n",
       "    <tr>\n",
       "      <th>4</th>\n",
       "      <td>e443df78-9558-467f-9ba9-1faf7a024204</td>\n",
       "      <td>Finland</td>\n",
       "      <td>policy</td>\n",
       "      <td>Export</td>\n",
       "      <td>2622</td>\n",
       "      <td>2817.29</td>\n",
       "      <td>03-04-2023</td>\n",
       "      <td>Electronics</td>\n",
       "      <td>Juliebury</td>\n",
       "      <td>555981</td>\n",
       "      <td>4406.74</td>\n",
       "      <td>Air</td>\n",
       "      <td>Zimmerman LLC</td>\n",
       "      <td>Amy Stephens</td>\n",
       "      <td>94600248</td>\n",
       "      <td>Cash on Delivery</td>\n",
       "    </tr>\n",
       "  </tbody>\n",
       "</table>\n",
       "</div>"
      ],
      "text/plain": [
       "                         Transaction_ID           Country    Product  \\\n",
       "0  e3e70682-c209-4cac-a29f-6fbed82c07cd          Colombia   describe   \n",
       "1  f728b4fa-4248-4e3a-8a5d-2f346baa9455             Chile  president   \n",
       "2  eb1167b3-67a9-4378-bc65-c1e582e2e662            Turkey        far   \n",
       "3  f7c1bd87-4da5-4709-9471-3d60c8a70639  Christmas Island     agency   \n",
       "4  e443df78-9558-467f-9ba9-1faf7a024204           Finland     policy   \n",
       "\n",
       "  Import_Export  Quantity    Value        Date     Category              Port  \\\n",
       "0        Export      1979  9506.57  07-12-2023    Machinery        Robertbury   \n",
       "1        Export      5763  7100.91  04-04-2023     Clothing          Shahport   \n",
       "2        Import      5740  2450.34  21-08-2024  Electronics  South Joshuatown   \n",
       "3        Export      2592  7226.42  09-05-2022    Furniture          Adamfort   \n",
       "4        Export      2622  2817.29  03-04-2023  Electronics         Juliebury   \n",
       "\n",
       "   Customs_Code   Weight Shipping_Method                         Supplier  \\\n",
       "0        620537  4248.65             Air  Garrison, Hubbard and Hendricks   \n",
       "1        927600  4340.81             Air                        Webb-Mack   \n",
       "2        299258  4538.41             Air        Mendez, Jones and Johnson   \n",
       "3        996084  4886.14             Air                  Schroeder-Smith   \n",
       "4        555981  4406.74             Air                    Zimmerman LLC   \n",
       "\n",
       "        Customer  Invoice_Number     Payment_Terms  \n",
       "0      Seth Hall        21000294  Cash on Delivery  \n",
       "1  Kimberly Ryan        88738432           Prepaid  \n",
       "2     Ryan Silva        89922099           Prepaid  \n",
       "3     Jacob Gray        63216265            Net 60  \n",
       "4   Amy Stephens        94600248  Cash on Delivery  "
      ]
     },
     "execution_count": 17,
     "metadata": {},
     "output_type": "execute_result"
    }
   ],
   "source": [
    "# Q3. Display the First 5 Records of Test Data.\n",
    "data.head(5)"
   ]
  },
  {
   "cell_type": "code",
   "execution_count": 19,
   "id": "06daff6d-0c18-49c5-bc08-e64218805ef1",
   "metadata": {},
   "outputs": [],
   "source": [
    "# Q4. Create an Unique Sample of 2001 Records using Student Roll Number as Random State. (Roll number 055005+055039)\n",
    "df = data.sample(n = 3001,random_state = 110044)"
   ]
  },
  {
   "cell_type": "code",
   "execution_count": 21,
   "id": "0e500ffa-e876-4a09-a362-445309e8a9ab",
   "metadata": {},
   "outputs": [
    {
     "data": {
      "text/plain": [
       "(3001, 16)"
      ]
     },
     "execution_count": 21,
     "metadata": {},
     "output_type": "execute_result"
    }
   ],
   "source": [
    "# Q5. Display the Dimensions of Sample Data.\n",
    "df.shape"
   ]
  },
  {
   "cell_type": "code",
   "execution_count": 23,
   "id": "86cf9611-b123-4ecf-b68e-abdec33d829a",
   "metadata": {},
   "outputs": [
    {
     "name": "stdout",
     "output_type": "stream",
     "text": [
      "<class 'pandas.core.frame.DataFrame'>\n",
      "Index: 3001 entries, 6382 to 3292\n",
      "Data columns (total 16 columns):\n",
      " #   Column           Non-Null Count  Dtype  \n",
      "---  ------           --------------  -----  \n",
      " 0   Transaction_ID   3001 non-null   object \n",
      " 1   Country          3001 non-null   object \n",
      " 2   Product          3001 non-null   object \n",
      " 3   Import_Export    3001 non-null   object \n",
      " 4   Quantity         3001 non-null   int64  \n",
      " 5   Value            3001 non-null   float64\n",
      " 6   Date             3001 non-null   object \n",
      " 7   Category         3001 non-null   object \n",
      " 8   Port             3001 non-null   object \n",
      " 9   Customs_Code     3001 non-null   int64  \n",
      " 10  Weight           3001 non-null   float64\n",
      " 11  Shipping_Method  3001 non-null   object \n",
      " 12  Supplier         3001 non-null   object \n",
      " 13  Customer         3001 non-null   object \n",
      " 14  Invoice_Number   3001 non-null   int64  \n",
      " 15  Payment_Terms    3001 non-null   object \n",
      "dtypes: float64(2), int64(3), object(11)\n",
      "memory usage: 398.6+ KB\n"
     ]
    }
   ],
   "source": [
    "# Q6. Display Sample Data Information.\n",
    "df.info()"
   ]
  },
  {
   "cell_type": "code",
   "execution_count": 25,
   "id": "cdd668e5-719b-4008-b06c-f9ec3dcb3a49",
   "metadata": {},
   "outputs": [
    {
     "data": {
      "text/html": [
       "<div>\n",
       "<style scoped>\n",
       "    .dataframe tbody tr th:only-of-type {\n",
       "        vertical-align: middle;\n",
       "    }\n",
       "\n",
       "    .dataframe tbody tr th {\n",
       "        vertical-align: top;\n",
       "    }\n",
       "\n",
       "    .dataframe thead th {\n",
       "        text-align: right;\n",
       "    }\n",
       "</style>\n",
       "<table border=\"1\" class=\"dataframe\">\n",
       "  <thead>\n",
       "    <tr style=\"text-align: right;\">\n",
       "      <th></th>\n",
       "      <th>Transaction_ID</th>\n",
       "      <th>Country</th>\n",
       "      <th>Product</th>\n",
       "      <th>Import_Export</th>\n",
       "      <th>Quantity</th>\n",
       "      <th>Value</th>\n",
       "      <th>Date</th>\n",
       "      <th>Category</th>\n",
       "      <th>Port</th>\n",
       "      <th>Customs_Code</th>\n",
       "      <th>Weight</th>\n",
       "      <th>Shipping_Method</th>\n",
       "      <th>Supplier</th>\n",
       "      <th>Customer</th>\n",
       "      <th>Invoice_Number</th>\n",
       "      <th>Payment_Terms</th>\n",
       "    </tr>\n",
       "  </thead>\n",
       "  <tbody>\n",
       "    <tr>\n",
       "      <th>6382</th>\n",
       "      <td>91b14867-29a0-428c-8c58-beac63254c75</td>\n",
       "      <td>British Indian Ocean Territory (Chagos Archipe...</td>\n",
       "      <td>job</td>\n",
       "      <td>Export</td>\n",
       "      <td>3493</td>\n",
       "      <td>9892.22</td>\n",
       "      <td>21-11-2022</td>\n",
       "      <td>Furniture</td>\n",
       "      <td>New Rebeccachester</td>\n",
       "      <td>500138</td>\n",
       "      <td>4454.25</td>\n",
       "      <td>Air</td>\n",
       "      <td>Lucero PLC</td>\n",
       "      <td>Casey Stewart</td>\n",
       "      <td>36233176</td>\n",
       "      <td>Net 30</td>\n",
       "    </tr>\n",
       "    <tr>\n",
       "      <th>13525</th>\n",
       "      <td>c27a0b6e-663f-4730-bfd8-57b4adaa2042</td>\n",
       "      <td>Finland</td>\n",
       "      <td>program</td>\n",
       "      <td>Export</td>\n",
       "      <td>3684</td>\n",
       "      <td>5303.83</td>\n",
       "      <td>02-07-2024</td>\n",
       "      <td>Machinery</td>\n",
       "      <td>Port Patrick</td>\n",
       "      <td>885387</td>\n",
       "      <td>1578.20</td>\n",
       "      <td>Land</td>\n",
       "      <td>Hall-Gallagher</td>\n",
       "      <td>Darren Wood</td>\n",
       "      <td>50768284</td>\n",
       "      <td>Net 60</td>\n",
       "    </tr>\n",
       "    <tr>\n",
       "      <th>11971</th>\n",
       "      <td>eb7f4767-eb86-4f71-a693-0daf29b0877d</td>\n",
       "      <td>Burundi</td>\n",
       "      <td>number</td>\n",
       "      <td>Export</td>\n",
       "      <td>7367</td>\n",
       "      <td>2338.68</td>\n",
       "      <td>22-02-2020</td>\n",
       "      <td>Machinery</td>\n",
       "      <td>New Wyatt</td>\n",
       "      <td>896102</td>\n",
       "      <td>2709.25</td>\n",
       "      <td>Land</td>\n",
       "      <td>Mack PLC</td>\n",
       "      <td>Alexander Klein</td>\n",
       "      <td>14936717</td>\n",
       "      <td>Net 60</td>\n",
       "    </tr>\n",
       "    <tr>\n",
       "      <th>12585</th>\n",
       "      <td>f141f687-1660-40d5-ace0-69b2ab8cb1d3</td>\n",
       "      <td>Austria</td>\n",
       "      <td>concern</td>\n",
       "      <td>Import</td>\n",
       "      <td>3429</td>\n",
       "      <td>7756.52</td>\n",
       "      <td>03-10-2019</td>\n",
       "      <td>Furniture</td>\n",
       "      <td>North James</td>\n",
       "      <td>231821</td>\n",
       "      <td>1768.75</td>\n",
       "      <td>Sea</td>\n",
       "      <td>Wagner, Brown and Miller</td>\n",
       "      <td>Deanna Warren</td>\n",
       "      <td>6045635</td>\n",
       "      <td>Prepaid</td>\n",
       "    </tr>\n",
       "    <tr>\n",
       "      <th>2298</th>\n",
       "      <td>f7f3032b-0bf1-4038-9773-7931a6e49e29</td>\n",
       "      <td>Mozambique</td>\n",
       "      <td>spend</td>\n",
       "      <td>Import</td>\n",
       "      <td>3832</td>\n",
       "      <td>7156.11</td>\n",
       "      <td>14-09-2020</td>\n",
       "      <td>Electronics</td>\n",
       "      <td>North Alexanderbury</td>\n",
       "      <td>958021</td>\n",
       "      <td>3528.10</td>\n",
       "      <td>Air</td>\n",
       "      <td>Bolton Inc</td>\n",
       "      <td>Charles Mendoza</td>\n",
       "      <td>72647104</td>\n",
       "      <td>Cash on Delivery</td>\n",
       "    </tr>\n",
       "    <tr>\n",
       "      <th>12529</th>\n",
       "      <td>08d91f5a-fead-4856-9853-ca10bcc71d86</td>\n",
       "      <td>Azerbaijan</td>\n",
       "      <td>its</td>\n",
       "      <td>Export</td>\n",
       "      <td>969</td>\n",
       "      <td>172.20</td>\n",
       "      <td>02-09-2021</td>\n",
       "      <td>Furniture</td>\n",
       "      <td>East Jameston</td>\n",
       "      <td>277213</td>\n",
       "      <td>3996.43</td>\n",
       "      <td>Land</td>\n",
       "      <td>Lloyd-Moore</td>\n",
       "      <td>Latasha Salazar</td>\n",
       "      <td>65757724</td>\n",
       "      <td>Cash on Delivery</td>\n",
       "    </tr>\n",
       "    <tr>\n",
       "      <th>10462</th>\n",
       "      <td>3a127af6-a383-4bc4-a4f3-f2f107e6cab4</td>\n",
       "      <td>Mayotte</td>\n",
       "      <td>billion</td>\n",
       "      <td>Export</td>\n",
       "      <td>3519</td>\n",
       "      <td>7064.81</td>\n",
       "      <td>25-04-2022</td>\n",
       "      <td>Electronics</td>\n",
       "      <td>Newtonchester</td>\n",
       "      <td>980691</td>\n",
       "      <td>4642.06</td>\n",
       "      <td>Sea</td>\n",
       "      <td>Paul-Reeves</td>\n",
       "      <td>Richard Gross</td>\n",
       "      <td>33755468</td>\n",
       "      <td>Net 60</td>\n",
       "    </tr>\n",
       "    <tr>\n",
       "      <th>4528</th>\n",
       "      <td>b60d4fbc-1316-4fde-98ba-f495154ba146</td>\n",
       "      <td>Ecuador</td>\n",
       "      <td>care</td>\n",
       "      <td>Export</td>\n",
       "      <td>999</td>\n",
       "      <td>1926.51</td>\n",
       "      <td>09-07-2020</td>\n",
       "      <td>Electronics</td>\n",
       "      <td>East Christopher</td>\n",
       "      <td>487959</td>\n",
       "      <td>1025.28</td>\n",
       "      <td>Sea</td>\n",
       "      <td>Love, Black and Edwards</td>\n",
       "      <td>David Wagner</td>\n",
       "      <td>30398444</td>\n",
       "      <td>Net 30</td>\n",
       "    </tr>\n",
       "    <tr>\n",
       "      <th>12277</th>\n",
       "      <td>954be0b8-9514-4594-9b19-5960275d4877</td>\n",
       "      <td>Greece</td>\n",
       "      <td>newspaper</td>\n",
       "      <td>Export</td>\n",
       "      <td>8698</td>\n",
       "      <td>128.99</td>\n",
       "      <td>27-01-2022</td>\n",
       "      <td>Electronics</td>\n",
       "      <td>Lake Matthew</td>\n",
       "      <td>682156</td>\n",
       "      <td>2759.32</td>\n",
       "      <td>Sea</td>\n",
       "      <td>Nelson-Evans</td>\n",
       "      <td>Chelsea Dean</td>\n",
       "      <td>40949056</td>\n",
       "      <td>Cash on Delivery</td>\n",
       "    </tr>\n",
       "    <tr>\n",
       "      <th>11090</th>\n",
       "      <td>2e445f70-b4ab-4ff6-b1c8-d327a742ea9d</td>\n",
       "      <td>Anguilla</td>\n",
       "      <td>short</td>\n",
       "      <td>Import</td>\n",
       "      <td>8675</td>\n",
       "      <td>4595.21</td>\n",
       "      <td>28-08-2022</td>\n",
       "      <td>Machinery</td>\n",
       "      <td>West Samuel</td>\n",
       "      <td>247330</td>\n",
       "      <td>3648.22</td>\n",
       "      <td>Air</td>\n",
       "      <td>Smith and Sons</td>\n",
       "      <td>Kelly Johnson</td>\n",
       "      <td>75168403</td>\n",
       "      <td>Net 30</td>\n",
       "    </tr>\n",
       "  </tbody>\n",
       "</table>\n",
       "</div>"
      ],
      "text/plain": [
       "                             Transaction_ID  \\\n",
       "6382   91b14867-29a0-428c-8c58-beac63254c75   \n",
       "13525  c27a0b6e-663f-4730-bfd8-57b4adaa2042   \n",
       "11971  eb7f4767-eb86-4f71-a693-0daf29b0877d   \n",
       "12585  f141f687-1660-40d5-ace0-69b2ab8cb1d3   \n",
       "2298   f7f3032b-0bf1-4038-9773-7931a6e49e29   \n",
       "12529  08d91f5a-fead-4856-9853-ca10bcc71d86   \n",
       "10462  3a127af6-a383-4bc4-a4f3-f2f107e6cab4   \n",
       "4528   b60d4fbc-1316-4fde-98ba-f495154ba146   \n",
       "12277  954be0b8-9514-4594-9b19-5960275d4877   \n",
       "11090  2e445f70-b4ab-4ff6-b1c8-d327a742ea9d   \n",
       "\n",
       "                                                 Country    Product  \\\n",
       "6382   British Indian Ocean Territory (Chagos Archipe...        job   \n",
       "13525                                            Finland    program   \n",
       "11971                                            Burundi     number   \n",
       "12585                                            Austria    concern   \n",
       "2298                                          Mozambique      spend   \n",
       "12529                                         Azerbaijan        its   \n",
       "10462                                            Mayotte    billion   \n",
       "4528                                             Ecuador       care   \n",
       "12277                                             Greece  newspaper   \n",
       "11090                                           Anguilla      short   \n",
       "\n",
       "      Import_Export  Quantity    Value        Date     Category  \\\n",
       "6382         Export      3493  9892.22  21-11-2022    Furniture   \n",
       "13525        Export      3684  5303.83  02-07-2024    Machinery   \n",
       "11971        Export      7367  2338.68  22-02-2020    Machinery   \n",
       "12585        Import      3429  7756.52  03-10-2019    Furniture   \n",
       "2298         Import      3832  7156.11  14-09-2020  Electronics   \n",
       "12529        Export       969   172.20  02-09-2021    Furniture   \n",
       "10462        Export      3519  7064.81  25-04-2022  Electronics   \n",
       "4528         Export       999  1926.51  09-07-2020  Electronics   \n",
       "12277        Export      8698   128.99  27-01-2022  Electronics   \n",
       "11090        Import      8675  4595.21  28-08-2022    Machinery   \n",
       "\n",
       "                      Port  Customs_Code   Weight Shipping_Method  \\\n",
       "6382    New Rebeccachester        500138  4454.25             Air   \n",
       "13525         Port Patrick        885387  1578.20            Land   \n",
       "11971            New Wyatt        896102  2709.25            Land   \n",
       "12585          North James        231821  1768.75             Sea   \n",
       "2298   North Alexanderbury        958021  3528.10             Air   \n",
       "12529        East Jameston        277213  3996.43            Land   \n",
       "10462        Newtonchester        980691  4642.06             Sea   \n",
       "4528      East Christopher        487959  1025.28             Sea   \n",
       "12277         Lake Matthew        682156  2759.32             Sea   \n",
       "11090          West Samuel        247330  3648.22             Air   \n",
       "\n",
       "                       Supplier         Customer  Invoice_Number  \\\n",
       "6382                 Lucero PLC    Casey Stewart        36233176   \n",
       "13525            Hall-Gallagher      Darren Wood        50768284   \n",
       "11971                  Mack PLC  Alexander Klein        14936717   \n",
       "12585  Wagner, Brown and Miller    Deanna Warren         6045635   \n",
       "2298                 Bolton Inc  Charles Mendoza        72647104   \n",
       "12529               Lloyd-Moore  Latasha Salazar        65757724   \n",
       "10462               Paul-Reeves    Richard Gross        33755468   \n",
       "4528    Love, Black and Edwards     David Wagner        30398444   \n",
       "12277              Nelson-Evans     Chelsea Dean        40949056   \n",
       "11090            Smith and Sons    Kelly Johnson        75168403   \n",
       "\n",
       "          Payment_Terms  \n",
       "6382             Net 30  \n",
       "13525            Net 60  \n",
       "11971            Net 60  \n",
       "12585           Prepaid  \n",
       "2298   Cash on Delivery  \n",
       "12529  Cash on Delivery  \n",
       "10462            Net 60  \n",
       "4528             Net 30  \n",
       "12277  Cash on Delivery  \n",
       "11090            Net 30  "
      ]
     },
     "execution_count": 25,
     "metadata": {},
     "output_type": "execute_result"
    }
   ],
   "source": [
    "# Q7. Display the First 10 Records of the Sample Data.\n",
    "df.head(10)"
   ]
  },
  {
   "cell_type": "code",
   "execution_count": 27,
   "id": "4068f935-55f4-4f81-ad9e-294549e6a01e",
   "metadata": {},
   "outputs": [
    {
     "data": {
      "text/plain": [
       "Index(['Transaction_ID', 'Country', 'Product', 'Import_Export', 'Quantity',\n",
       "       'Value', 'Date', 'Category', 'Port', 'Customs_Code', 'Weight',\n",
       "       'Shipping_Method', 'Supplier', 'Customer', 'Invoice_Number',\n",
       "       'Payment_Terms'],\n",
       "      dtype='object')"
      ]
     },
     "execution_count": 27,
     "metadata": {},
     "output_type": "execute_result"
    }
   ],
   "source": [
    "# Q8. Display the List of Names of the Variables.\n",
    "df.columns"
   ]
  },
  {
   "cell_type": "code",
   "execution_count": 29,
   "id": "f1ea2661-ee72-4454-ae87-049bda596227",
   "metadata": {},
   "outputs": [
    {
     "name": "stdout",
     "output_type": "stream",
     "text": [
      "Index Variables: ['Transaction_ID']\n",
      "Categorical Variables - Nominal Type: ['Country', 'Product', 'Import_Export', 'Category', 'Port', 'Shipping_Method', 'Supplier', 'Customer', 'Payment_Terms']\n",
      "Non-Categorical Variables: ['Quantity', 'Value', 'Date', 'Weight', 'Customs_Code', 'Invoice_Number']\n"
     ]
    }
   ],
   "source": [
    "#Q9. Identify & Display the List of the following Variables:\n",
    "\n",
    "# 1. Index Variables (Assuming Transaction_ID is the index variable as it's unique for each record)\n",
    "index_variables = ['Transaction_ID']\n",
    "print(\"Index Variables:\", index_variables)\n",
    "\n",
    "# 2. Categorical Variables - Nominal Type (e.g., Country, Product, Category, Port, Shipping_Method, Supplier, Customer)\n",
    "categorical_nominal_variables = ['Country', 'Product', 'Import_Export', 'Category', 'Port', 'Shipping_Method', 'Supplier', 'Customer', 'Payment_Terms']\n",
    "print(\"Categorical Variables - Nominal Type:\", categorical_nominal_variables)\n",
    "\n",
    "# 3. Categorical Variables - Ordinal Type (There may not be any ordinal type in the data, but Payment_Terms could be considered if the terms represent a hierarchy)\n",
    "# NO ORDINAL VARIABLES FOUND\n",
    "\n",
    "# 4. Non-Categorical Variables (e.g., Quantity, Value, Date, Weight)\n",
    "non_categorical_variables = ['Quantity', 'Value', 'Date', 'Weight', 'Customs_Code', 'Invoice_Number']\n",
    "print(\"Non-Categorical Variables:\", non_categorical_variables)"
   ]
  },
  {
   "cell_type": "code",
   "execution_count": 64,
   "id": "276711d7-ee79-4823-a427-8afeeceb88eb",
   "metadata": {},
   "outputs": [
    {
     "data": {
      "image/png": "[encoded data removed]",
      "text/plain": [
       "<Figure size 900x500 with 2 Axes>"
      ]
     },
     "metadata": {},
     "output_type": "display_data"
    }
   ],
   "source": [
    "import matplotlib.pyplot as plt\n",
    "\n",
    "# Group by Category and Import_Export, then sum the values\n",
    "category_values = df.groupby(['Category', 'Import_Export'])['Value'].sum().unstack().fillna(0)\n",
    "\n",
    "# Separate data for Imports and Exports\n",
    "import_values = category_values['Import'].sort_values(ascending=False).head(10)  # Top 10 categories by import\n",
    "export_values = category_values['Export'].sort_values(ascending=False).head(10)  # Top 10 categories by export\n",
    "\n",
    "# Plotting the bar chart for Imports\n",
    "plt.figure(figsize=(9, 5))\n",
    "plt.subplot(1, 2, 1)\n",
    "import_values.plot(kind='bar', color='lightcoral', edgecolor='black')\n",
    "plt.title('Top 10 Categories by Import Value')\n",
    "plt.xlabel('Category')\n",
    "plt.ylabel('Import Value (in USD)')\n",
    "plt.xticks(rotation=45, ha='right')\n",
    "\n",
    "# Plotting the bar chart for Exports\n",
    "plt.subplot(1, 2, 2)\n",
    "export_values.plot(kind='bar', color='lightblue', edgecolor='black')\n",
    "plt.title('Top 10 Categories by Export Value')\n",
    "plt.xlabel('Category')\n",
    "plt.ylabel('Export Value (in USD)')\n",
    "plt.xticks(rotation=45, ha='right')\n",
    "\n",
    "plt.tight_layout()  # Adjust layout for better spacing\n",
    "plt.show()\n"
   ]
  },
  {
   "cell_type": "code",
   "execution_count": 96,
   "id": "bac31496-081f-4cb6-9344-08396315dbd5",
   "metadata": {},
   "outputs": [
    {
     "data": {
      "image/png": "[encoded data removed]",
      "text/plain": [
       "<Figure size 500x500 with 1 Axes>"
      ]
     },
     "metadata": {},
     "output_type": "display_data"
    },
    {
     "data": {
      "image/png": "[encoded data removed]",
      "text/plain": [
       "<Figure size 500x500 with 1 Axes>"
      ]
     },
     "metadata": {},
     "output_type": "display_data"
    }
   ],
   "source": [
    "import matplotlib.pyplot as plt\n",
    "\n",
    "# Count the number of transactions for each shipping method\n",
    "shipping_method_counts = df['Shipping_Method'].value_counts()\n",
    "\n",
    "# Pie chart: Proportion of transactions by Shipping Method\n",
    "plt.figure(figsize=(5, 5))\n",
    "plt.pie(shipping_method_counts, labels=shipping_method_counts.index, autopct='%1.1f%%', colors=plt.cm.Paired.colors, startangle=90)\n",
    "plt.title('Proportion of Transactions by Shipping Method')\n",
    "plt.axis('equal')  # Equal aspect ratio ensures the pie chart is circular.\n",
    "plt.show()\n",
    "\n",
    "\n",
    "# Count the number of transactions for each Import/Export type\n",
    "import_export_counts = df['Import_Export'].value_counts()\n",
    "\n",
    "# Pie chart: Proportion of transactions by Import/Export type\n",
    "plt.figure(figsize=(5, 5))\n",
    "plt.pie(import_export_counts, labels=import_export_counts.index, autopct='%1.1f%%', colors=plt.cm.Set3.colors, startangle=90)\n",
    "plt.title('Proportion of Transactions by Import/Export Type')\n",
    "plt.axis('equal')  # Equal aspect ratio ensures the pie chart is circular.\n",
    "plt.show()\n"
   ]
  },
  {
   "cell_type": "code",
   "execution_count": 82,
   "id": "0f81bb41-7d89-42d9-87cb-284a99f2a59a",
   "metadata": {},
   "outputs": [
    {
     "data": {
      "image/png": "[encoded data removed]",
      "text/plain": [
       "<Figure size 700x400 with 1 Axes>"
      ]
     },
     "metadata": {},
     "output_type": "display_data"
    }
   ],
   "source": [
    "import matplotlib.pyplot as plt\n",
    "\n",
    "# Count the occurrences of each Payment Method\n",
    "payment_mode_counts = df['Payment_Terms'].value_counts()\n",
    "\n",
    "# Bar chart for most preferred payment mode\n",
    "plt.figure(figsize=(7, 4))\n",
    "payment_mode_counts.plot(kind='bar', color='skyblue', edgecolor='black')\n",
    "plt.title('Most Preferred Payment Mode')\n",
    "plt.xlabel('Payment Mode')\n",
    "plt.ylabel('Number of Transactions')\n",
    "plt.xticks(rotation=45)  # Rotate the labels for better visibility\n",
    "plt.tight_layout()  # Adjust layout for better spacing\n",
    "plt.show()\n"
   ]
  },
  {
   "cell_type": "code",
   "execution_count": 84,
   "id": "5513a3cd-784b-495a-b47c-a1a7bb950bc4",
   "metadata": {},
   "outputs": [
    {
     "data": {
      "image/png": "[encoded data removed]",
      "text/plain": [
       "<Figure size 700x500 with 1 Axes>"
      ]
     },
     "metadata": {},
     "output_type": "display_data"
    }
   ],
   "source": [
    "import matplotlib.pyplot as plt\n",
    "import pandas as pd\n",
    "\n",
    "# Group by Customer and Import/Export, then sum the values\n",
    "customer_values = df.groupby(['Customer', 'Import_Export'])['Value'].sum().unstack().fillna(0)\n",
    "\n",
    "# Sort values to display the top customers\n",
    "top_customers = customer_values.sum(axis=1).sort_values(ascending=False).head(10)  # Select top 10 customers\n",
    "top_customer_values = customer_values.loc[top_customers.index]\n",
    "\n",
    "# Plotting the bar chart for top customers\n",
    "top_customer_values.plot(kind='bar', figsize=(7, 5), stacked=True, color=['lightcoral', 'lightblue'], edgecolor='black')\n",
    "plt.title('Customer-wise Highest Import/Export Transactions')\n",
    "plt.xlabel('Customer')\n",
    "plt.ylabel('Transaction Value (in USD)')\n",
    "plt.xticks(rotation=45, ha='right')  # Rotate the x-axis labels for better readability\n",
    "plt.tight_layout()  # Adjust layout for better spacing\n",
    "plt.legend(title='Transaction Type', loc='upper right')\n",
    "plt.show()\n"
   ]
  },
  {
   "cell_type": "code",
   "execution_count": 103,
   "id": "53c07e29-ba9f-4138-80d6-7771a7d1e048",
   "metadata": {},
   "outputs": [
    {
     "data": {
      "application/vnd.plotly.v1+json": {
       "config": {
        "plotlyServerURL": "https://plot.ly"
       },
       "data": [
        {
         "branchvalues": "total",
         "customdata": [
          [
           3160896.48
          ],
          [
           2982531.89
          ],
          [
           3240179.6800000006
          ],
          [
           3153854.3
          ],
          [
           2743781.62
          ]
         ],
         "domain": {
          "x": [
           0,
           1
          ],
          "y": [
           0,
           1
          ]
         },
         "hovertemplate": "labels=%{label}<br>Value_sum=%{value}<br>parent=%{parent}<br>id=%{id}<br>Value=%{color}<extra></extra>",
         "ids": [
          "Clothing",
          "Electronics",
          "Furniture",
          "Machinery",
          "Toys"
         ],
         "labels": [
          "Clothing",
          "Electronics",
          "Furniture",
          "Machinery",
          "Toys"
         ],
         "marker": {
          "coloraxis": "coloraxis",
          "colors": [
           3160896.48,
           2982531.89,
           3240179.6800000006,
           3153854.3,
           2743781.62
          ]
         },
         "name": "",
         "parents": [
          "",
          "",
          "",
          "",
          ""
         ],
         "type": "treemap",
         "values": [
          3160896.48,
          2982531.89,
          3240179.68,
          3153854.3,
          2743781.62
         ]
        }
       ],
       "layout": {
        "autosize": true,
        "coloraxis": {
         "colorbar": {
          "title": {
           "text": "Value"
          }
         },
         "colorscale": [
          [
           0,
           "#440154"
          ],
          [
           0.1111111111111111,
           "#482878"
          ],
          [
           0.2222222222222222,
           "#3e4989"
          ],
          [
           0.3333333333333333,
           "#31688e"
          ],
          [
           0.4444444444444444,
           "#26828e"
          ],
          [
           0.5555555555555556,
           "#1f9e89"
          ],
          [
           0.6666666666666666,
           "#35b779"
          ],
          [
           0.7777777777777778,
           "#6ece58"
          ],
          [
           0.8888888888888888,
           "#b5de2b"
          ],
          [
           1,
           "#fde725"
          ]
         ]
        },
        "legend": {
         "tracegroupgap": 0
        },
        "template": {
         "data": {
          "bar": [
           {
            "error_x": {
             "color": "#2a3f5f"
            },
            "error_y": {
             "color": "#2a3f5f"
            },
            "marker": {
             "line": {
              "color": "#E5ECF6",
              "width": 0.5
             },
             "pattern": {
              "fillmode": "overlay",
              "size": 10,
              "solidity": 0.2
             }
            },
            "type": "bar"
           }
          ],
          "barpolar": [
           {
            "marker": {
             "line": {
              "color": "#E5ECF6",
              "width": 0.5
             },
             "pattern": {
              "fillmode": "overlay",
              "size": 10,
              "solidity": 0.2
             }
            },
            "type": "barpolar"
           }
          ],
          "carpet": [
           {
            "aaxis": {
             "endlinecolor": "#2a3f5f",
             "gridcolor": "white",
             "linecolor": "white",
             "minorgridcolor": "white",
             "startlinecolor": "#2a3f5f"
            },
            "baxis": {
             "endlinecolor": "#2a3f5f",
             "gridcolor": "white",
             "linecolor": "white",
             "minorgridcolor": "white",
             "startlinecolor": "#2a3f5f"
            },
            "type": "carpet"
           }
          ],
          "choropleth": [
           {
            "colorbar": {
             "outlinewidth": 0,
             "ticks": ""
            },
            "type": "choropleth"
           }
          ],
          "contour": [
           {
            "colorbar": {
             "outlinewidth": 0,
             "ticks": ""
            },
            "colorscale": [
             [
              0,
              "#0d0887"
             ],
             [
              0.1111111111111111,
              "#46039f"
             ],
             [
              0.2222222222222222,
              "#7201a8"
             ],
             [
              0.3333333333333333,
              "#9c179e"
             ],
             [
              0.4444444444444444,
              "#bd3786"
             ],
             [
              0.5555555555555556,
              "#d8576b"
             ],
             [
              0.6666666666666666,
              "#ed7953"
             ],
             [
              0.7777777777777778,
              "#fb9f3a"
             ],
             [
              0.8888888888888888,
              "#fdca26"
             ],
             [
              1,
              "#f0f921"
             ]
            ],
            "type": "contour"
           }
          ],
          "contourcarpet": [
           {
            "colorbar": {
             "outlinewidth": 0,
             "ticks": ""
            },
            "type": "contourcarpet"
           }
          ],
          "heatmap": [
           {
            "colorbar": {
             "outlinewidth": 0,
             "ticks": ""
            },
            "colorscale": [
             [
              0,
              "#0d0887"
             ],
             [
              0.1111111111111111,
              "#46039f"
             ],
             [
              0.2222222222222222,
              "#7201a8"
             ],
             [
              0.3333333333333333,
              "#9c179e"
             ],
             [
              0.4444444444444444,
              "#bd3786"
             ],
             [
              0.5555555555555556,
              "#d8576b"
             ],
             [
              0.6666666666666666,
              "#ed7953"
             ],
             [
              0.7777777777777778,
              "#fb9f3a"
             ],
             [
              0.8888888888888888,
              "#fdca26"
             ],
             [
              1,
              "#f0f921"
             ]
            ],
            "type": "heatmap"
           }
          ],
          "heatmapgl": [
           {
            "colorbar": {
             "outlinewidth": 0,
             "ticks": ""
            },
            "colorscale": [
             [
              0,
              "#0d0887"
             ],
             [
              0.1111111111111111,
              "#46039f"
             ],
             [
              0.2222222222222222,
              "#7201a8"
             ],
             [
              0.3333333333333333,
              "#9c179e"
             ],
             [
              0.4444444444444444,
              "#bd3786"
             ],
             [
              0.5555555555555556,
              "#d8576b"
             ],
             [
              0.6666666666666666,
              "#ed7953"
             ],
             [
              0.7777777777777778,
              "#fb9f3a"
             ],
             [
              0.8888888888888888,
              "#fdca26"
             ],
             [
              1,
              "#f0f921"
             ]
            ],
            "type": "heatmapgl"
           }
          ],
          "histogram": [
           {
            "marker": {
             "pattern": {
              "fillmode": "overlay",
              "size": 10,
              "solidity": 0.2
             }
            },
            "type": "histogram"
           }
          ],
          "histogram2d": [
           {
            "colorbar": {
             "outlinewidth": 0,
             "ticks": ""
            },
            "colorscale": [
             [
              0,
              "#0d0887"
             ],
             [
              0.1111111111111111,
              "#46039f"
             ],
             [
              0.2222222222222222,
              "#7201a8"
             ],
             [
              0.3333333333333333,
              "#9c179e"
             ],
             [
              0.4444444444444444,
              "#bd3786"
             ],
             [
              0.5555555555555556,
              "#d8576b"
             ],
             [
              0.6666666666666666,
              "#ed7953"
             ],
             [
              0.7777777777777778,
              "#fb9f3a"
             ],
             [
              0.8888888888888888,
              "#fdca26"
             ],
             [
              1,
              "#f0f921"
             ]
            ],
            "type": "histogram2d"
           }
          ],
          "histogram2dcontour": [
           {
            "colorbar": {
             "outlinewidth": 0,
             "ticks": ""
            },
            "colorscale": [
             [
              0,
              "#0d0887"
             ],
             [
              0.1111111111111111,
              "#46039f"
             ],
             [
              0.2222222222222222,
              "#7201a8"
             ],
             [
              0.3333333333333333,
              "#9c179e"
             ],
             [
              0.4444444444444444,
              "#bd3786"
             ],
             [
              0.5555555555555556,
              "#d8576b"
             ],
             [
              0.6666666666666666,
              "#ed7953"
             ],
             [
              0.7777777777777778,
              "#fb9f3a"
             ],
             [
              0.8888888888888888,
              "#fdca26"
             ],
             [
              1,
              "#f0f921"
             ]
            ],
            "type": "histogram2dcontour"
           }
          ],
          "mesh3d": [
           {
            "colorbar": {
             "outlinewidth": 0,
             "ticks": ""
            },
            "type": "mesh3d"
           }
          ],
          "parcoords": [
           {
            "line": {
             "colorbar": {
              "outlinewidth": 0,
              "ticks": ""
             }
            },
            "type": "parcoords"
           }
          ],
          "pie": [
           {
            "automargin": true,
            "type": "pie"
           }
          ],
          "scatter": [
           {
            "fillpattern": {
             "fillmode": "overlay",
             "size": 10,
             "solidity": 0.2
            },
            "type": "scatter"
           }
          ],
          "scatter3d": [
           {
            "line": {
             "colorbar": {
              "outlinewidth": 0,
              "ticks": ""
             }
            },
            "marker": {
             "colorbar": {
              "outlinewidth": 0,
              "ticks": ""
             }
            },
            "type": "scatter3d"
           }
          ],
          "scattercarpet": [
           {
            "marker": {
             "colorbar": {
              "outlinewidth": 0,
              "ticks": ""
             }
            },
            "type": "scattercarpet"
           }
          ],
          "scattergeo": [
           {
            "marker": {
             "colorbar": {
              "outlinewidth": 0,
              "ticks": ""
             }
            },
            "type": "scattergeo"
           }
          ],
          "scattergl": [
           {
            "marker": {
             "colorbar": {
              "outlinewidth": 0,
              "ticks": ""
             }
            },
            "type": "scattergl"
           }
          ],
          "scattermapbox": [
           {
            "marker": {
             "colorbar": {
              "outlinewidth": 0,
              "ticks": ""
             }
            },
            "type": "scattermapbox"
           }
          ],
          "scatterpolar": [
           {
            "marker": {
             "colorbar": {
              "outlinewidth": 0,
              "ticks": ""
             }
            },
            "type": "scatterpolar"
           }
          ],
          "scatterpolargl": [
           {
            "marker": {
             "colorbar": {
              "outlinewidth": 0,
              "ticks": ""
             }
            },
            "type": "scatterpolargl"
           }
          ],
          "scatterternary": [
           {
            "marker": {
             "colorbar": {
              "outlinewidth": 0,
              "ticks": ""
             }
            },
            "type": "scatterternary"
           }
          ],
          "surface": [
           {
            "colorbar": {
             "outlinewidth": 0,
             "ticks": ""
            },
            "colorscale": [
             [
              0,
              "#0d0887"
             ],
             [
              0.1111111111111111,
              "#46039f"
             ],
             [
              0.2222222222222222,
              "#7201a8"
             ],
             [
              0.3333333333333333,
              "#9c179e"
             ],
             [
              0.4444444444444444,
              "#bd3786"
             ],
             [
              0.5555555555555556,
              "#d8576b"
             ],
             [
              0.6666666666666666,
              "#ed7953"
             ],
             [
              0.7777777777777778,
              "#fb9f3a"
             ],
             [
              0.8888888888888888,
              "#fdca26"
             ],
             [
              1,
              "#f0f921"
             ]
            ],
            "type": "surface"
           }
          ],
          "table": [
           {
            "cells": {
             "fill": {
              "color": "#EBF0F8"
             },
             "line": {
              "color": "white"
             }
            },
            "header": {
             "fill": {
              "color": "#C8D4E3"
             },
             "line": {
              "color": "white"
             }
            },
            "type": "table"
           }
          ]
         },
         "layout": {
          "annotationdefaults": {
           "arrowcolor": "#2a3f5f",
           "arrowhead": 0,
           "arrowwidth": 1
          },
          "autotypenumbers": "strict",
          "coloraxis": {
           "colorbar": {
            "outlinewidth": 0,
            "ticks": ""
           }
          },
          "colorscale": {
           "diverging": [
            [
             0,
             "#8e0152"
            ],
            [
             0.1,
             "#c51b7d"
            ],
            [
             0.2,
             "#de77ae"
            ],
            [
             0.3,
             "#f1b6da"
            ],
            [
             0.4,
             "#fde0ef"
            ],
            [
             0.5,
             "#f7f7f7"
            ],
            [
             0.6,
             "#e6f5d0"
            ],
            [
             0.7,
             "#b8e186"
            ],
            [
             0.8,
             "#7fbc41"
            ],
            [
             0.9,
             "#4d9221"
            ],
            [
             1,
             "#276419"
            ]
           ],
           "sequential": [
            [
             0,
             "#0d0887"
            ],
            [
             0.1111111111111111,
             "#46039f"
            ],
            [
             0.2222222222222222,
             "#7201a8"
            ],
            [
             0.3333333333333333,
             "#9c179e"
            ],
            [
             0.4444444444444444,
             "#bd3786"
            ],
            [
             0.5555555555555556,
             "#d8576b"
            ],
            [
             0.6666666666666666,
             "#ed7953"
            ],
            [
             0.7777777777777778,
             "#fb9f3a"
            ],
            [
             0.8888888888888888,
             "#fdca26"
            ],
            [
             1,
             "#f0f921"
            ]
           ],
           "sequentialminus": [
            [
             0,
             "#0d0887"
            ],
            [
             0.1111111111111111,
             "#46039f"
            ],
            [
             0.2222222222222222,
             "#7201a8"
            ],
            [
             0.3333333333333333,
             "#9c179e"
            ],
            [
             0.4444444444444444,
             "#bd3786"
            ],
            [
             0.5555555555555556,
             "#d8576b"
            ],
            [
             0.6666666666666666,
             "#ed7953"
            ],
            [
             0.7777777777777778,
             "#fb9f3a"
            ],
            [
             0.8888888888888888,
             "#fdca26"
            ],
            [
             1,
             "#f0f921"
            ]
           ]
          },
          "colorway": [
           "#636efa",
           "#EF553B",
           "#00cc96",
           "#ab63fa",
           "#FFA15A",
           "#19d3f3",
           "#FF6692",
           "#B6E880",
           "#FF97FF",
           "#FECB52"
          ],
          "font": {
           "color": "#2a3f5f"
          },
          "geo": {
           "bgcolor": "white",
           "lakecolor": "white",
           "landcolor": "#E5ECF6",
           "showlakes": true,
           "showland": true,
           "subunitcolor": "white"
          },
          "hoverlabel": {
           "align": "left"
          },
          "hovermode": "closest",
          "mapbox": {
           "style": "light"
          },
          "paper_bgcolor": "white",
          "plot_bgcolor": "#E5ECF6",
          "polar": {
           "angularaxis": {
            "gridcolor": "white",
            "linecolor": "white",
            "ticks": ""
           },
           "bgcolor": "#E5ECF6",
           "radialaxis": {
            "gridcolor": "white",
            "linecolor": "white",
            "ticks": ""
           }
          },
          "scene": {
           "xaxis": {
            "backgroundcolor": "#E5ECF6",
            "gridcolor": "white",
            "gridwidth": 2,
            "linecolor": "white",
            "showbackground": true,
            "ticks": "",
            "zerolinecolor": "white"
           },
           "yaxis": {
            "backgroundcolor": "#E5ECF6",
            "gridcolor": "white",
            "gridwidth": 2,
            "linecolor": "white",
            "showbackground": true,
            "ticks": "",
            "zerolinecolor": "white"
           },
           "zaxis": {
            "backgroundcolor": "#E5ECF6",
            "gridcolor": "white",
            "gridwidth": 2,
            "linecolor": "white",
            "showbackground": true,
            "ticks": "",
            "zerolinecolor": "white"
           }
          },
          "shapedefaults": {
           "line": {
            "color": "#2a3f5f"
           }
          },
          "ternary": {
           "aaxis": {
            "gridcolor": "white",
            "linecolor": "white",
            "ticks": ""
           },
           "baxis": {
            "gridcolor": "white",
            "linecolor": "white",
            "ticks": ""
           },
           "bgcolor": "#E5ECF6",
           "caxis": {
            "gridcolor": "white",
            "linecolor": "white",
            "ticks": ""
           }
          },
          "title": {
           "x": 0.05
          },
          "xaxis": {
           "automargin": true,
           "gridcolor": "white",
           "linecolor": "white",
           "ticks": "",
           "title": {
            "standoff": 15
           },
           "zerolinecolor": "white",
           "zerolinewidth": 2
          },
          "yaxis": {
           "automargin": true,
           "gridcolor": "white",
           "linecolor": "white",
           "ticks": "",
           "title": {
            "standoff": 15
           },
           "zerolinecolor": "white",
           "zerolinewidth": 2
          }
         }
        },
        "title": {
         "text": "Treemap of Total Import/Export Values by Category"
        }
       }
      },
      "image/png": "[encoded data removed]",
      "text/html": [
       "<div>                            <div id=\"995b2425-b3a0-41bb-88c1-25507324baa5\" class=\"plotly-graph-div\" style=\"height:525px; width:100%;\"></div>            <script type=\"text/javascript\">                require([\"plotly\"], function(Plotly) {                    window.PLOTLYENV=window.PLOTLYENV || {};                                    if (document.getElementById(\"995b2425-b3a0-41bb-88c1-25507324baa5\")) {                    Plotly.newPlot(                        \"995b2425-b3a0-41bb-88c1-25507324baa5\",                        [{\"branchvalues\":\"total\",\"customdata\":[[3160896.48],[2982531.89],[3240179.6800000006],[3153854.3],[2743781.62]],\"domain\":{\"x\":[0.0,1.0],\"y\":[0.0,1.0]},\"hovertemplate\":\"labels=%{label}\\u003cbr\\u003eValue_sum=%{value}\\u003cbr\\u003eparent=%{parent}\\u003cbr\\u003eid=%{id}\\u003cbr\\u003eValue=%{color}\\u003cextra\\u003e\\u003c\\u002fextra\\u003e\",\"ids\":[\"Clothing\",\"Electronics\",\"Furniture\",\"Machinery\",\"Toys\"],\"labels\":[\"Clothing\",\"Electronics\",\"Furniture\",\"Machinery\",\"Toys\"],\"marker\":{\"coloraxis\":\"coloraxis\",\"colors\":[3160896.48,2982531.89,3240179.6800000006,3153854.3,2743781.62]},\"name\":\"\",\"parents\":[\"\",\"\",\"\",\"\",\"\"],\"values\":[3160896.48,2982531.89,3240179.68,3153854.3,2743781.62],\"type\":\"treemap\"}],                        {\"template\":{\"data\":{\"histogram2dcontour\":[{\"type\":\"histogram2dcontour\",\"colorbar\":{\"outlinewidth\":0,\"ticks\":\"\"},\"colorscale\":[[0.0,\"#0d0887\"],[0.1111111111111111,\"#46039f\"],[0.2222222222222222,\"#7201a8\"],[0.3333333333333333,\"#9c179e\"],[0.4444444444444444,\"#bd3786\"],[0.5555555555555556,\"#d8576b\"],[0.6666666666666666,\"#ed7953\"],[0.7777777777777778,\"#fb9f3a\"],[0.8888888888888888,\"#fdca26\"],[1.0,\"#f0f921\"]]}],\"choropleth\":[{\"type\":\"choropleth\",\"colorbar\":{\"outlinewidth\":0,\"ticks\":\"\"}}],\"histogram2d\":[{\"type\":\"histogram2d\",\"colorbar\":{\"outlinewidth\":0,\"ticks\":\"\"},\"colorscale\":[[0.0,\"#0d0887\"],[0.1111111111111111,\"#46039f\"],[0.2222222222222222,\"#7201a8\"],[0.3333333333333333,\"#9c179e\"],[0.4444444444444444,\"#bd3786\"],[0.5555555555555556,\"#d8576b\"],[0.6666666666666666,\"#ed7953\"],[0.7777777777777778,\"#fb9f3a\"],[0.8888888888888888,\"#fdca26\"],[1.0,\"#f0f921\"]]}],\"heatmap\":[{\"type\":\"heatmap\",\"colorbar\":{\"outlinewidth\":0,\"ticks\":\"\"},\"colorscale\":[[0.0,\"#0d0887\"],[0.1111111111111111,\"#46039f\"],[0.2222222222222222,\"#7201a8\"],[0.3333333333333333,\"#9c179e\"],[0.4444444444444444,\"#bd3786\"],[0.5555555555555556,\"#d8576b\"],[0.6666666666666666,\"#ed7953\"],[0.7777777777777778,\"#fb9f3a\"],[0.8888888888888888,\"#fdca26\"],[1.0,\"#f0f921\"]]}],\"heatmapgl\":[{\"type\":\"heatmapgl\",\"colorbar\":{\"outlinewidth\":0,\"ticks\":\"\"},\"colorscale\":[[0.0,\"#0d0887\"],[0.1111111111111111,\"#46039f\"],[0.2222222222222222,\"#7201a8\"],[0.3333333333333333,\"#9c179e\"],[0.4444444444444444,\"#bd3786\"],[0.5555555555555556,\"#d8576b\"],[0.6666666666666666,\"#ed7953\"],[0.7777777777777778,\"#fb9f3a\"],[0.8888888888888888,\"#fdca26\"],[1.0,\"#f0f921\"]]}],\"contourcarpet\":[{\"type\":\"contourcarpet\",\"colorbar\":{\"outlinewidth\":0,\"ticks\":\"\"}}],\"contour\":[{\"type\":\"contour\",\"colorbar\":{\"outlinewidth\":0,\"ticks\":\"\"},\"colorscale\":[[0.0,\"#0d0887\"],[0.1111111111111111,\"#46039f\"],[0.2222222222222222,\"#7201a8\"],[0.3333333333333333,\"#9c179e\"],[0.4444444444444444,\"#bd3786\"],[0.5555555555555556,\"#d8576b\"],[0.6666666666666666,\"#ed7953\"],[0.7777777777777778,\"#fb9f3a\"],[0.8888888888888888,\"#fdca26\"],[1.0,\"#f0f921\"]]}],\"surface\":[{\"type\":\"surface\",\"colorbar\":{\"outlinewidth\":0,\"ticks\":\"\"},\"colorscale\":[[0.0,\"#0d0887\"],[0.1111111111111111,\"#46039f\"],[0.2222222222222222,\"#7201a8\"],[0.3333333333333333,\"#9c179e\"],[0.4444444444444444,\"#bd3786\"],[0.5555555555555556,\"#d8576b\"],[0.6666666666666666,\"#ed7953\"],[0.7777777777777778,\"#fb9f3a\"],[0.8888888888888888,\"#fdca26\"],[1.0,\"#f0f921\"]]}],\"mesh3d\":[{\"type\":\"mesh3d\",\"colorbar\":{\"outlinewidth\":0,\"ticks\":\"\"}}],\"scatter\":[{\"fillpattern\":{\"fillmode\":\"overlay\",\"size\":10,\"solidity\":0.2},\"type\":\"scatter\"}],\"parcoords\":[{\"type\":\"parcoords\",\"line\":{\"colorbar\":{\"outlinewidth\":0,\"ticks\":\"\"}}}],\"scatterpolargl\":[{\"type\":\"scatterpolargl\",\"marker\":{\"colorbar\":{\"outlinewidth\":0,\"ticks\":\"\"}}}],\"bar\":[{\"error_x\":{\"color\":\"#2a3f5f\"},\"error_y\":{\"color\":\"#2a3f5f\"},\"marker\":{\"line\":{\"color\":\"#E5ECF6\",\"width\":0.5},\"pattern\":{\"fillmode\":\"overlay\",\"size\":10,\"solidity\":0.2}},\"type\":\"bar\"}],\"scattergeo\":[{\"type\":\"scattergeo\",\"marker\":{\"colorbar\":{\"outlinewidth\":0,\"ticks\":\"\"}}}],\"scatterpolar\":[{\"type\":\"scatterpolar\",\"marker\":{\"colorbar\":{\"outlinewidth\":0,\"ticks\":\"\"}}}],\"histogram\":[{\"marker\":{\"pattern\":{\"fillmode\":\"overlay\",\"size\":10,\"solidity\":0.2}},\"type\":\"histogram\"}],\"scattergl\":[{\"type\":\"scattergl\",\"marker\":{\"colorbar\":{\"outlinewidth\":0,\"ticks\":\"\"}}}],\"scatter3d\":[{\"type\":\"scatter3d\",\"line\":{\"colorbar\":{\"outlinewidth\":0,\"ticks\":\"\"}},\"marker\":{\"colorbar\":{\"outlinewidth\":0,\"ticks\":\"\"}}}],\"scattermapbox\":[{\"type\":\"scattermapbox\",\"marker\":{\"colorbar\":{\"outlinewidth\":0,\"ticks\":\"\"}}}],\"scatterternary\":[{\"type\":\"scatterternary\",\"marker\":{\"colorbar\":{\"outlinewidth\":0,\"ticks\":\"\"}}}],\"scattercarpet\":[{\"type\":\"scattercarpet\",\"marker\":{\"colorbar\":{\"outlinewidth\":0,\"ticks\":\"\"}}}],\"carpet\":[{\"aaxis\":{\"endlinecolor\":\"#2a3f5f\",\"gridcolor\":\"white\",\"linecolor\":\"white\",\"minorgridcolor\":\"white\",\"startlinecolor\":\"#2a3f5f\"},\"baxis\":{\"endlinecolor\":\"#2a3f5f\",\"gridcolor\":\"white\",\"linecolor\":\"white\",\"minorgridcolor\":\"white\",\"startlinecolor\":\"#2a3f5f\"},\"type\":\"carpet\"}],\"table\":[{\"cells\":{\"fill\":{\"color\":\"#EBF0F8\"},\"line\":{\"color\":\"white\"}},\"header\":{\"fill\":{\"color\":\"#C8D4E3\"},\"line\":{\"color\":\"white\"}},\"type\":\"table\"}],\"barpolar\":[{\"marker\":{\"line\":{\"color\":\"#E5ECF6\",\"width\":0.5},\"pattern\":{\"fillmode\":\"overlay\",\"size\":10,\"solidity\":0.2}},\"type\":\"barpolar\"}],\"pie\":[{\"automargin\":true,\"type\":\"pie\"}]},\"layout\":{\"autotypenumbers\":\"strict\",\"colorway\":[\"#636efa\",\"#EF553B\",\"#00cc96\",\"#ab63fa\",\"#FFA15A\",\"#19d3f3\",\"#FF6692\",\"#B6E880\",\"#FF97FF\",\"#FECB52\"],\"font\":{\"color\":\"#2a3f5f\"},\"hovermode\":\"closest\",\"hoverlabel\":{\"align\":\"left\"},\"paper_bgcolor\":\"white\",\"plot_bgcolor\":\"#E5ECF6\",\"polar\":{\"bgcolor\":\"#E5ECF6\",\"angularaxis\":{\"gridcolor\":\"white\",\"linecolor\":\"white\",\"ticks\":\"\"},\"radialaxis\":{\"gridcolor\":\"white\",\"linecolor\":\"white\",\"ticks\":\"\"}},\"ternary\":{\"bgcolor\":\"#E5ECF6\",\"aaxis\":{\"gridcolor\":\"white\",\"linecolor\":\"white\",\"ticks\":\"\"},\"baxis\":{\"gridcolor\":\"white\",\"linecolor\":\"white\",\"ticks\":\"\"},\"caxis\":{\"gridcolor\":\"white\",\"linecolor\":\"white\",\"ticks\":\"\"}},\"coloraxis\":{\"colorbar\":{\"outlinewidth\":0,\"ticks\":\"\"}},\"colorscale\":{\"sequential\":[[0.0,\"#0d0887\"],[0.1111111111111111,\"#46039f\"],[0.2222222222222222,\"#7201a8\"],[0.3333333333333333,\"#9c179e\"],[0.4444444444444444,\"#bd3786\"],[0.5555555555555556,\"#d8576b\"],[0.6666666666666666,\"#ed7953\"],[0.7777777777777778,\"#fb9f3a\"],[0.8888888888888888,\"#fdca26\"],[1.0,\"#f0f921\"]],\"sequentialminus\":[[0.0,\"#0d0887\"],[0.1111111111111111,\"#46039f\"],[0.2222222222222222,\"#7201a8\"],[0.3333333333333333,\"#9c179e\"],[0.4444444444444444,\"#bd3786\"],[0.5555555555555556,\"#d8576b\"],[0.6666666666666666,\"#ed7953\"],[0.7777777777777778,\"#fb9f3a\"],[0.8888888888888888,\"#fdca26\"],[1.0,\"#f0f921\"]],\"diverging\":[[0,\"#8e0152\"],[0.1,\"#c51b7d\"],[0.2,\"#de77ae\"],[0.3,\"#f1b6da\"],[0.4,\"#fde0ef\"],[0.5,\"#f7f7f7\"],[0.6,\"#e6f5d0\"],[0.7,\"#b8e186\"],[0.8,\"#7fbc41\"],[0.9,\"#4d9221\"],[1,\"#276419\"]]},\"xaxis\":{\"gridcolor\":\"white\",\"linecolor\":\"white\",\"ticks\":\"\",\"title\":{\"standoff\":15},\"zerolinecolor\":\"white\",\"automargin\":true,\"zerolinewidth\":2},\"yaxis\":{\"gridcolor\":\"white\",\"linecolor\":\"white\",\"ticks\":\"\",\"title\":{\"standoff\":15},\"zerolinecolor\":\"white\",\"automargin\":true,\"zerolinewidth\":2},\"scene\":{\"xaxis\":{\"backgroundcolor\":\"#E5ECF6\",\"gridcolor\":\"white\",\"linecolor\":\"white\",\"showbackground\":true,\"ticks\":\"\",\"zerolinecolor\":\"white\",\"gridwidth\":2},\"yaxis\":{\"backgroundcolor\":\"#E5ECF6\",\"gridcolor\":\"white\",\"linecolor\":\"white\",\"showbackground\":true,\"ticks\":\"\",\"zerolinecolor\":\"white\",\"gridwidth\":2},\"zaxis\":{\"backgroundcolor\":\"#E5ECF6\",\"gridcolor\":\"white\",\"linecolor\":\"white\",\"showbackground\":true,\"ticks\":\"\",\"zerolinecolor\":\"white\",\"gridwidth\":2}},\"shapedefaults\":{\"line\":{\"color\":\"#2a3f5f\"}},\"annotationdefaults\":{\"arrowcolor\":\"#2a3f5f\",\"arrowhead\":0,\"arrowwidth\":1},\"geo\":{\"bgcolor\":\"white\",\"landcolor\":\"#E5ECF6\",\"subunitcolor\":\"white\",\"showland\":true,\"showlakes\":true,\"lakecolor\":\"white\"},\"title\":{\"x\":0.05},\"mapbox\":{\"style\":\"light\"}}},\"coloraxis\":{\"colorbar\":{\"title\":{\"text\":\"Value\"}},\"colorscale\":[[0.0,\"#440154\"],[0.1111111111111111,\"#482878\"],[0.2222222222222222,\"#3e4989\"],[0.3333333333333333,\"#31688e\"],[0.4444444444444444,\"#26828e\"],[0.5555555555555556,\"#1f9e89\"],[0.6666666666666666,\"#35b779\"],[0.7777777777777778,\"#6ece58\"],[0.8888888888888888,\"#b5de2b\"],[1.0,\"#fde725\"]]},\"legend\":{\"tracegroupgap\":0},\"title\":{\"text\":\"Treemap of Total Import\\u002fExport Values by Category\"}},                        {\"responsive\": true}                    ).then(function(){\n",
       "                            \n",
       "var gd = document.getElementById('995b2425-b3a0-41bb-88c1-25507324baa5');\n",
       "var x = new MutationObserver(function (mutations, observer) {{\n",
       "        var display = window.getComputedStyle(gd).display;\n",
       "        if (!display || display === 'none') {{\n",
       "            console.log([gd, 'removed!']);\n",
       "            Plotly.purge(gd);\n",
       "            observer.disconnect();\n",
       "        }}\n",
       "}});\n",
       "\n",
       "// Listen for the removal of the full notebook cells\n",
       "var notebookContainer = gd.closest('#notebook-container');\n",
       "if (notebookContainer) {{\n",
       "    x.observe(notebookContainer, {childList: true});\n",
       "}}\n",
       "\n",
       "// Listen for the clearing of the current output cell\n",
       "var outputEl = gd.closest('.output');\n",
       "if (outputEl) {{\n",
       "    x.observe(outputEl, {childList: true});\n",
       "}}\n",
       "\n",
       "                        })                };                });            </script>        </div>"
      ]
     },
     "metadata": {},
     "output_type": "display_data"
    }
   ],
   "source": [
    "import plotly.express as px\n",
    "import pandas as pd\n",
    "\n",
    "# Group by Category and sum the values for both Imports and Exports\n",
    "category_values = df.groupby('Category')['Value'].sum().reset_index()\n",
    "\n",
    "# Create a treemap\n",
    "fig = px.treemap(category_values, \n",
    "                 path=['Category'],  # Hierarchy of categories\n",
    "                 values='Value',     # Values for treemap sizing\n",
    "                 title='Treemap of Total Import/Export Values by Category',\n",
    "                 color='Value',      # Color based on value\n",
    "                 color_continuous_scale='Viridis')  # Color scale\n",
    "\n",
    "# Show the treemap\n",
    "fig.show()\n"
   ]
  },
  {
   "cell_type": "code",
   "execution_count": 42,
   "id": "a390c5e8-9a36-4753-a9c3-287a3bb19814",
   "metadata": {},
   "outputs": [
    {
     "data": {
      "application/vnd.plotly.v1+json": {
       "config": {
        "plotlyServerURL": "https://plot.ly"
       },
       "data": [
        {
         "hovertemplate": "<b>%{hovertext}</b><br><br>Category=Clothing<br>Total Value=%{x}<br>Transaction Count=%{marker.size}<extra></extra>",
         "hovertext": [
          "Clothing"
         ],
         "legendgroup": "Clothing",
         "marker": {
          "color": "#636efa",
          "size": [
           597
          ],
          "sizemode": "area",
          "sizeref": 0.17666666666666667,
          "symbol": "circle"
         },
         "mode": "markers",
         "name": "Clothing",
         "orientation": "v",
         "showlegend": true,
         "type": "scatter",
         "x": [
          3160896.48
         ],
         "xaxis": "x",
         "y": [
          597
         ],
         "yaxis": "y"
        },
        {
         "hovertemplate": "<b>%{hovertext}</b><br><br>Category=Electronics<br>Total Value=%{x}<br>Transaction Count=%{marker.size}<extra></extra>",
         "hovertext": [
          "Electronics"
         ],
         "legendgroup": "Electronics",
         "marker": {
          "color": "#EF553B",
          "size": [
           591
          ],
          "sizemode": "area",
          "sizeref": 0.17666666666666667,
          "symbol": "circle"
         },
         "mode": "markers",
         "name": "Electronics",
         "orientation": "v",
         "showlegend": true,
         "type": "scatter",
         "x": [
          2982531.89
         ],
         "xaxis": "x",
         "y": [
          591
         ],
         "yaxis": "y"
        },
        {
         "hovertemplate": "<b>%{hovertext}</b><br><br>Category=Furniture<br>Total Value=%{x}<br>Transaction Count=%{marker.size}<extra></extra>",
         "hovertext": [
          "Furniture"
         ],
         "legendgroup": "Furniture",
         "marker": {
          "color": "#00cc96",
          "size": [
           636
          ],
          "sizemode": "area",
          "sizeref": 0.17666666666666667,
          "symbol": "circle"
         },
         "mode": "markers",
         "name": "Furniture",
         "orientation": "v",
         "showlegend": true,
         "type": "scatter",
         "x": [
          3240179.68
         ],
         "xaxis": "x",
         "y": [
          636
         ],
         "yaxis": "y"
        },
        {
         "hovertemplate": "<b>%{hovertext}</b><br><br>Category=Machinery<br>Total Value=%{x}<br>Transaction Count=%{marker.size}<extra></extra>",
         "hovertext": [
          "Machinery"
         ],
         "legendgroup": "Machinery",
         "marker": {
          "color": "#ab63fa",
          "size": [
           628
          ],
          "sizemode": "area",
          "sizeref": 0.17666666666666667,
          "symbol": "circle"
         },
         "mode": "markers",
         "name": "Machinery",
         "orientation": "v",
         "showlegend": true,
         "type": "scatter",
         "x": [
          3153854.3
         ],
         "xaxis": "x",
         "y": [
          628
         ],
         "yaxis": "y"
        },
        {
         "hovertemplate": "<b>%{hovertext}</b><br><br>Category=Toys<br>Total Value=%{x}<br>Transaction Count=%{marker.size}<extra></extra>",
         "hovertext": [
          "Toys"
         ],
         "legendgroup": "Toys",
         "marker": {
          "color": "#FFA15A",
          "size": [
           549
          ],
          "sizemode": "area",
          "sizeref": 0.17666666666666667,
          "symbol": "circle"
         },
         "mode": "markers",
         "name": "Toys",
         "orientation": "v",
         "showlegend": true,
         "type": "scatter",
         "x": [
          2743781.62
         ],
         "xaxis": "x",
         "y": [
          549
         ],
         "yaxis": "y"
        }
       ],
       "layout": {
        "autosize": true,
        "legend": {
         "itemsizing": "constant",
         "title": {
          "text": "Category"
         },
         "tracegroupgap": 0
        },
        "template": {
         "data": {
          "bar": [
           {
            "error_x": {
             "color": "#2a3f5f"
            },
            "error_y": {
             "color": "#2a3f5f"
            },
            "marker": {
             "line": {
              "color": "white",
              "width": 0.5
             },
             "pattern": {
              "fillmode": "overlay",
              "size": 10,
              "solidity": 0.2
             }
            },
            "type": "bar"
           }
          ],
          "barpolar": [
           {
            "marker": {
             "line": {
              "color": "white",
              "width": 0.5
             },
             "pattern": {
              "fillmode": "overlay",
              "size": 10,
              "solidity": 0.2
             }
            },
            "type": "barpolar"
           }
          ],
          "carpet": [
           {
            "aaxis": {
             "endlinecolor": "#2a3f5f",
             "gridcolor": "#C8D4E3",
             "linecolor": "#C8D4E3",
             "minorgridcolor": "#C8D4E3",
             "startlinecolor": "#2a3f5f"
            },
            "baxis": {
             "endlinecolor": "#2a3f5f",
             "gridcolor": "#C8D4E3",
             "linecolor": "#C8D4E3",
             "minorgridcolor": "#C8D4E3",
             "startlinecolor": "#2a3f5f"
            },
            "type": "carpet"
           }
          ],
          "choropleth": [
           {
            "colorbar": {
             "outlinewidth": 0,
             "ticks": ""
            },
            "type": "choropleth"
           }
          ],
          "contour": [
           {
            "colorbar": {
             "outlinewidth": 0,
             "ticks": ""
            },
            "colorscale": [
             [
              0,
              "#0d0887"
             ],
             [
              0.1111111111111111,
              "#46039f"
             ],
             [
              0.2222222222222222,
              "#7201a8"
             ],
             [
              0.3333333333333333,
              "#9c179e"
             ],
             [
              0.4444444444444444,
              "#bd3786"
             ],
             [
              0.5555555555555556,
              "#d8576b"
             ],
             [
              0.6666666666666666,
              "#ed7953"
             ],
             [
              0.7777777777777778,
              "#fb9f3a"
             ],
             [
              0.8888888888888888,
              "#fdca26"
             ],
             [
              1,
              "#f0f921"
             ]
            ],
            "type": "contour"
           }
          ],
          "contourcarpet": [
           {
            "colorbar": {
             "outlinewidth": 0,
             "ticks": ""
            },
            "type": "contourcarpet"
           }
          ],
          "heatmap": [
           {
            "colorbar": {
             "outlinewidth": 0,
             "ticks": ""
            },
            "colorscale": [
             [
              0,
              "#0d0887"
             ],
             [
              0.1111111111111111,
              "#46039f"
             ],
             [
              0.2222222222222222,
              "#7201a8"
             ],
             [
              0.3333333333333333,
              "#9c179e"
             ],
             [
              0.4444444444444444,
              "#bd3786"
             ],
             [
              0.5555555555555556,
              "#d8576b"
             ],
             [
              0.6666666666666666,
              "#ed7953"
             ],
             [
              0.7777777777777778,
              "#fb9f3a"
             ],
             [
              0.8888888888888888,
              "#fdca26"
             ],
             [
              1,
              "#f0f921"
             ]
            ],
            "type": "heatmap"
           }
          ],
          "heatmapgl": [
           {
            "colorbar": {
             "outlinewidth": 0,
             "ticks": ""
            },
            "colorscale": [
             [
              0,
              "#0d0887"
             ],
             [
              0.1111111111111111,
              "#46039f"
             ],
             [
              0.2222222222222222,
              "#7201a8"
             ],
             [
              0.3333333333333333,
              "#9c179e"
             ],
             [
              0.4444444444444444,
              "#bd3786"
             ],
             [
              0.5555555555555556,
              "#d8576b"
             ],
             [
              0.6666666666666666,
              "#ed7953"
             ],
             [
              0.7777777777777778,
              "#fb9f3a"
             ],
             [
              0.8888888888888888,
              "#fdca26"
             ],
             [
              1,
              "#f0f921"
             ]
            ],
            "type": "heatmapgl"
           }
          ],
          "histogram": [
           {
            "marker": {
             "pattern": {
              "fillmode": "overlay",
              "size": 10,
              "solidity": 0.2
             }
            },
            "type": "histogram"
           }
          ],
          "histogram2d": [
           {
            "colorbar": {
             "outlinewidth": 0,
             "ticks": ""
            },
            "colorscale": [
             [
              0,
              "#0d0887"
             ],
             [
              0.1111111111111111,
              "#46039f"
             ],
             [
              0.2222222222222222,
              "#7201a8"
             ],
             [
              0.3333333333333333,
              "#9c179e"
             ],
             [
              0.4444444444444444,
              "#bd3786"
             ],
             [
              0.5555555555555556,
              "#d8576b"
             ],
             [
              0.6666666666666666,
              "#ed7953"
             ],
             [
              0.7777777777777778,
              "#fb9f3a"
             ],
             [
              0.8888888888888888,
              "#fdca26"
             ],
             [
              1,
              "#f0f921"
             ]
            ],
            "type": "histogram2d"
           }
          ],
          "histogram2dcontour": [
           {
            "colorbar": {
             "outlinewidth": 0,
             "ticks": ""
            },
            "colorscale": [
             [
              0,
              "#0d0887"
             ],
             [
              0.1111111111111111,
              "#46039f"
             ],
             [
              0.2222222222222222,
              "#7201a8"
             ],
             [
              0.3333333333333333,
              "#9c179e"
             ],
             [
              0.4444444444444444,
              "#bd3786"
             ],
             [
              0.5555555555555556,
              "#d8576b"
             ],
             [
              0.6666666666666666,
              "#ed7953"
             ],
             [
              0.7777777777777778,
              "#fb9f3a"
             ],
             [
              0.8888888888888888,
              "#fdca26"
             ],
             [
              1,
              "#f0f921"
             ]
            ],
            "type": "histogram2dcontour"
           }
          ],
          "mesh3d": [
           {
            "colorbar": {
             "outlinewidth": 0,
             "ticks": ""
            },
            "type": "mesh3d"
           }
          ],
          "parcoords": [
           {
            "line": {
             "colorbar": {
              "outlinewidth": 0,
              "ticks": ""
             }
            },
            "type": "parcoords"
           }
          ],
          "pie": [
           {
            "automargin": true,
            "type": "pie"
           }
          ],
          "scatter": [
           {
            "fillpattern": {
             "fillmode": "overlay",
             "size": 10,
             "solidity": 0.2
            },
            "type": "scatter"
           }
          ],
          "scatter3d": [
           {
            "line": {
             "colorbar": {
              "outlinewidth": 0,
              "ticks": ""
             }
            },
            "marker": {
             "colorbar": {
              "outlinewidth": 0,
              "ticks": ""
             }
            },
            "type": "scatter3d"
           }
          ],
          "scattercarpet": [
           {
            "marker": {
             "colorbar": {
              "outlinewidth": 0,
              "ticks": ""
             }
            },
            "type": "scattercarpet"
           }
          ],
          "scattergeo": [
           {
            "marker": {
             "colorbar": {
              "outlinewidth": 0,
              "ticks": ""
             }
            },
            "type": "scattergeo"
           }
          ],
          "scattergl": [
           {
            "marker": {
             "colorbar": {
              "outlinewidth": 0,
              "ticks": ""
             }
            },
            "type": "scattergl"
           }
          ],
          "scattermapbox": [
           {
            "marker": {
             "colorbar": {
              "outlinewidth": 0,
              "ticks": ""
             }
            },
            "type": "scattermapbox"
           }
          ],
          "scatterpolar": [
           {
            "marker": {
             "colorbar": {
              "outlinewidth": 0,
              "ticks": ""
             }
            },
            "type": "scatterpolar"
           }
          ],
          "scatterpolargl": [
           {
            "marker": {
             "colorbar": {
              "outlinewidth": 0,
              "ticks": ""
             }
            },
            "type": "scatterpolargl"
           }
          ],
          "scatterternary": [
           {
            "marker": {
             "colorbar": {
              "outlinewidth": 0,
              "ticks": ""
             }
            },
            "type": "scatterternary"
           }
          ],
          "surface": [
           {
            "colorbar": {
             "outlinewidth": 0,
             "ticks": ""
            },
            "colorscale": [
             [
              0,
              "#0d0887"
             ],
             [
              0.1111111111111111,
              "#46039f"
             ],
             [
              0.2222222222222222,
              "#7201a8"
             ],
             [
              0.3333333333333333,
              "#9c179e"
             ],
             [
              0.4444444444444444,
              "#bd3786"
             ],
             [
              0.5555555555555556,
              "#d8576b"
             ],
             [
              0.6666666666666666,
              "#ed7953"
             ],
             [
              0.7777777777777778,
              "#fb9f3a"
             ],
             [
              0.8888888888888888,
              "#fdca26"
             ],
             [
              1,
              "#f0f921"
             ]
            ],
            "type": "surface"
           }
          ],
          "table": [
           {
            "cells": {
             "fill": {
              "color": "#EBF0F8"
             },
             "line": {
              "color": "white"
             }
            },
            "header": {
             "fill": {
              "color": "#C8D4E3"
             },
             "line": {
              "color": "white"
             }
            },
            "type": "table"
           }
          ]
         },
         "layout": {
          "annotationdefaults": {
           "arrowcolor": "#2a3f5f",
           "arrowhead": 0,
           "arrowwidth": 1
          },
          "autotypenumbers": "strict",
          "coloraxis": {
           "colorbar": {
            "outlinewidth": 0,
            "ticks": ""
           }
          },
          "colorscale": {
           "diverging": [
            [
             0,
             "#8e0152"
            ],
            [
             0.1,
             "#c51b7d"
            ],
            [
             0.2,
             "#de77ae"
            ],
            [
             0.3,
             "#f1b6da"
            ],
            [
             0.4,
             "#fde0ef"
            ],
            [
             0.5,
             "#f7f7f7"
            ],
            [
             0.6,
             "#e6f5d0"
            ],
            [
             0.7,
             "#b8e186"
            ],
            [
             0.8,
             "#7fbc41"
            ],
            [
             0.9,
             "#4d9221"
            ],
            [
             1,
             "#276419"
            ]
           ],
           "sequential": [
            [
             0,
             "#0d0887"
            ],
            [
             0.1111111111111111,
             "#46039f"
            ],
            [
             0.2222222222222222,
             "#7201a8"
            ],
            [
             0.3333333333333333,
             "#9c179e"
            ],
            [
             0.4444444444444444,
             "#bd3786"
            ],
            [
             0.5555555555555556,
             "#d8576b"
            ],
            [
             0.6666666666666666,
             "#ed7953"
            ],
            [
             0.7777777777777778,
             "#fb9f3a"
            ],
            [
             0.8888888888888888,
             "#fdca26"
            ],
            [
             1,
             "#f0f921"
            ]
           ],
           "sequentialminus": [
            [
             0,
             "#0d0887"
            ],
            [
             0.1111111111111111,
             "#46039f"
            ],
            [
             0.2222222222222222,
             "#7201a8"
            ],
            [
             0.3333333333333333,
             "#9c179e"
            ],
            [
             0.4444444444444444,
             "#bd3786"
            ],
            [
             0.5555555555555556,
             "#d8576b"
            ],
            [
             0.6666666666666666,
             "#ed7953"
            ],
            [
             0.7777777777777778,
             "#fb9f3a"
            ],
            [
             0.8888888888888888,
             "#fdca26"
            ],
            [
             1,
             "#f0f921"
            ]
           ]
          },
          "colorway": [
           "#636efa",
           "#EF553B",
           "#00cc96",
           "#ab63fa",
           "#FFA15A",
           "#19d3f3",
           "#FF6692",
           "#B6E880",
           "#FF97FF",
           "#FECB52"
          ],
          "font": {
           "color": "#2a3f5f"
          },
          "geo": {
           "bgcolor": "white",
           "lakecolor": "white",
           "landcolor": "white",
           "showlakes": true,
           "showland": true,
           "subunitcolor": "#C8D4E3"
          },
          "hoverlabel": {
           "align": "left"
          },
          "hovermode": "closest",
          "mapbox": {
           "style": "light"
          },
          "paper_bgcolor": "white",
          "plot_bgcolor": "white",
          "polar": {
           "angularaxis": {
            "gridcolor": "#EBF0F8",
            "linecolor": "#EBF0F8",
            "ticks": ""
           },
           "bgcolor": "white",
           "radialaxis": {
            "gridcolor": "#EBF0F8",
            "linecolor": "#EBF0F8",
            "ticks": ""
           }
          },
          "scene": {
           "xaxis": {
            "backgroundcolor": "white",
            "gridcolor": "#DFE8F3",
            "gridwidth": 2,
            "linecolor": "#EBF0F8",
            "showbackground": true,
            "ticks": "",
            "zerolinecolor": "#EBF0F8"
           },
           "yaxis": {
            "backgroundcolor": "white",
            "gridcolor": "#DFE8F3",
            "gridwidth": 2,
            "linecolor": "#EBF0F8",
            "showbackground": true,
            "ticks": "",
            "zerolinecolor": "#EBF0F8"
           },
           "zaxis": {
            "backgroundcolor": "white",
            "gridcolor": "#DFE8F3",
            "gridwidth": 2,
            "linecolor": "#EBF0F8",
            "showbackground": true,
            "ticks": "",
            "zerolinecolor": "#EBF0F8"
           }
          },
          "shapedefaults": {
           "line": {
            "color": "#2a3f5f"
           }
          },
          "ternary": {
           "aaxis": {
            "gridcolor": "#DFE8F3",
            "linecolor": "#A2B1C6",
            "ticks": ""
           },
           "baxis": {
            "gridcolor": "#DFE8F3",
            "linecolor": "#A2B1C6",
            "ticks": ""
           },
           "bgcolor": "white",
           "caxis": {
            "gridcolor": "#DFE8F3",
            "linecolor": "#A2B1C6",
            "ticks": ""
           }
          },
          "title": {
           "x": 0.05
          },
          "xaxis": {
           "automargin": true,
           "gridcolor": "#EBF0F8",
           "linecolor": "#EBF0F8",
           "ticks": "",
           "title": {
            "standoff": 15
           },
           "zerolinecolor": "#EBF0F8",
           "zerolinewidth": 2
          },
          "yaxis": {
           "automargin": true,
           "gridcolor": "#EBF0F8",
           "linecolor": "#EBF0F8",
           "ticks": "",
           "title": {
            "standoff": 15
           },
           "zerolinecolor": "#EBF0F8",
           "zerolinewidth": 2
          }
         }
        },
        "title": {
         "text": "Bubble Chart of Transaction Count vs Total Value by Category"
        },
        "xaxis": {
         "anchor": "y",
         "autorange": true,
         "domain": [
          0,
          1
         ],
         "range": [
          2681416.083986683,
          3304925.716351379
         ],
         "title": {
          "text": "Total Value"
         },
         "type": "linear"
        },
        "yaxis": {
         "anchor": "x",
         "autorange": true,
         "domain": [
          0,
          1
         ],
         "range": [
          483.50421430715846,
          705.6468591819191
         ],
         "title": {
          "text": "Transaction Count"
         },
         "type": "linear"
        }
       }
      },
      "image/png": "[encoded data removed]",
      "text/html": [
       "<div>                            <div id=\"e9a10760-b6d0-4ab4-8ba6-042ad5935d1c\" class=\"plotly-graph-div\" style=\"height:525px; width:100%;\"></div>            <script type=\"text/javascript\">                require([\"plotly\"], function(Plotly) {                    window.PLOTLYENV=window.PLOTLYENV || {};                                    if (document.getElementById(\"e9a10760-b6d0-4ab4-8ba6-042ad5935d1c\")) {                    Plotly.newPlot(                        \"e9a10760-b6d0-4ab4-8ba6-042ad5935d1c\",                        [{\"hovertemplate\":\"\\u003cb\\u003e%{hovertext}\\u003c\\u002fb\\u003e\\u003cbr\\u003e\\u003cbr\\u003eCategory=Clothing\\u003cbr\\u003eTotal Value=%{x}\\u003cbr\\u003eTransaction Count=%{marker.size}\\u003cextra\\u003e\\u003c\\u002fextra\\u003e\",\"hovertext\":[\"Clothing\"],\"legendgroup\":\"Clothing\",\"marker\":{\"color\":\"#636efa\",\"size\":[597],\"sizemode\":\"area\",\"sizeref\":0.17666666666666667,\"symbol\":\"circle\"},\"mode\":\"markers\",\"name\":\"Clothing\",\"orientation\":\"v\",\"showlegend\":true,\"x\":[3160896.48],\"xaxis\":\"x\",\"y\":[597],\"yaxis\":\"y\",\"type\":\"scatter\"},{\"hovertemplate\":\"\\u003cb\\u003e%{hovertext}\\u003c\\u002fb\\u003e\\u003cbr\\u003e\\u003cbr\\u003eCategory=Electronics\\u003cbr\\u003eTotal Value=%{x}\\u003cbr\\u003eTransaction Count=%{marker.size}\\u003cextra\\u003e\\u003c\\u002fextra\\u003e\",\"hovertext\":[\"Electronics\"],\"legendgroup\":\"Electronics\",\"marker\":{\"color\":\"#EF553B\",\"size\":[591],\"sizemode\":\"area\",\"sizeref\":0.17666666666666667,\"symbol\":\"circle\"},\"mode\":\"markers\",\"name\":\"Electronics\",\"orientation\":\"v\",\"showlegend\":true,\"x\":[2982531.89],\"xaxis\":\"x\",\"y\":[591],\"yaxis\":\"y\",\"type\":\"scatter\"},{\"hovertemplate\":\"\\u003cb\\u003e%{hovertext}\\u003c\\u002fb\\u003e\\u003cbr\\u003e\\u003cbr\\u003eCategory=Furniture\\u003cbr\\u003eTotal Value=%{x}\\u003cbr\\u003eTransaction Count=%{marker.size}\\u003cextra\\u003e\\u003c\\u002fextra\\u003e\",\"hovertext\":[\"Furniture\"],\"legendgroup\":\"Furniture\",\"marker\":{\"color\":\"#00cc96\",\"size\":[636],\"sizemode\":\"area\",\"sizeref\":0.17666666666666667,\"symbol\":\"circle\"},\"mode\":\"markers\",\"name\":\"Furniture\",\"orientation\":\"v\",\"showlegend\":true,\"x\":[3240179.68],\"xaxis\":\"x\",\"y\":[636],\"yaxis\":\"y\",\"type\":\"scatter\"},{\"hovertemplate\":\"\\u003cb\\u003e%{hovertext}\\u003c\\u002fb\\u003e\\u003cbr\\u003e\\u003cbr\\u003eCategory=Machinery\\u003cbr\\u003eTotal Value=%{x}\\u003cbr\\u003eTransaction Count=%{marker.size}\\u003cextra\\u003e\\u003c\\u002fextra\\u003e\",\"hovertext\":[\"Machinery\"],\"legendgroup\":\"Machinery\",\"marker\":{\"color\":\"#ab63fa\",\"size\":[628],\"sizemode\":\"area\",\"sizeref\":0.17666666666666667,\"symbol\":\"circle\"},\"mode\":\"markers\",\"name\":\"Machinery\",\"orientation\":\"v\",\"showlegend\":true,\"x\":[3153854.3],\"xaxis\":\"x\",\"y\":[628],\"yaxis\":\"y\",\"type\":\"scatter\"},{\"hovertemplate\":\"\\u003cb\\u003e%{hovertext}\\u003c\\u002fb\\u003e\\u003cbr\\u003e\\u003cbr\\u003eCategory=Toys\\u003cbr\\u003eTotal Value=%{x}\\u003cbr\\u003eTransaction Count=%{marker.size}\\u003cextra\\u003e\\u003c\\u002fextra\\u003e\",\"hovertext\":[\"Toys\"],\"legendgroup\":\"Toys\",\"marker\":{\"color\":\"#FFA15A\",\"size\":[549],\"sizemode\":\"area\",\"sizeref\":0.17666666666666667,\"symbol\":\"circle\"},\"mode\":\"markers\",\"name\":\"Toys\",\"orientation\":\"v\",\"showlegend\":true,\"x\":[2743781.62],\"xaxis\":\"x\",\"y\":[549],\"yaxis\":\"y\",\"type\":\"scatter\"}],                        {\"template\":{\"data\":{\"barpolar\":[{\"marker\":{\"line\":{\"color\":\"white\",\"width\":0.5},\"pattern\":{\"fillmode\":\"overlay\",\"size\":10,\"solidity\":0.2}},\"type\":\"barpolar\"}],\"bar\":[{\"error_x\":{\"color\":\"#2a3f5f\"},\"error_y\":{\"color\":\"#2a3f5f\"},\"marker\":{\"line\":{\"color\":\"white\",\"width\":0.5},\"pattern\":{\"fillmode\":\"overlay\",\"size\":10,\"solidity\":0.2}},\"type\":\"bar\"}],\"carpet\":[{\"aaxis\":{\"endlinecolor\":\"#2a3f5f\",\"gridcolor\":\"#C8D4E3\",\"linecolor\":\"#C8D4E3\",\"minorgridcolor\":\"#C8D4E3\",\"startlinecolor\":\"#2a3f5f\"},\"baxis\":{\"endlinecolor\":\"#2a3f5f\",\"gridcolor\":\"#C8D4E3\",\"linecolor\":\"#C8D4E3\",\"minorgridcolor\":\"#C8D4E3\",\"startlinecolor\":\"#2a3f5f\"},\"type\":\"carpet\"}],\"choropleth\":[{\"colorbar\":{\"outlinewidth\":0,\"ticks\":\"\"},\"type\":\"choropleth\"}],\"contourcarpet\":[{\"colorbar\":{\"outlinewidth\":0,\"ticks\":\"\"},\"type\":\"contourcarpet\"}],\"contour\":[{\"colorbar\":{\"outlinewidth\":0,\"ticks\":\"\"},\"colorscale\":[[0.0,\"#0d0887\"],[0.1111111111111111,\"#46039f\"],[0.2222222222222222,\"#7201a8\"],[0.3333333333333333,\"#9c179e\"],[0.4444444444444444,\"#bd3786\"],[0.5555555555555556,\"#d8576b\"],[0.6666666666666666,\"#ed7953\"],[0.7777777777777778,\"#fb9f3a\"],[0.8888888888888888,\"#fdca26\"],[1.0,\"#f0f921\"]],\"type\":\"contour\"}],\"heatmapgl\":[{\"colorbar\":{\"outlinewidth\":0,\"ticks\":\"\"},\"colorscale\":[[0.0,\"#0d0887\"],[0.1111111111111111,\"#46039f\"],[0.2222222222222222,\"#7201a8\"],[0.3333333333333333,\"#9c179e\"],[0.4444444444444444,\"#bd3786\"],[0.5555555555555556,\"#d8576b\"],[0.6666666666666666,\"#ed7953\"],[0.7777777777777778,\"#fb9f3a\"],[0.8888888888888888,\"#fdca26\"],[1.0,\"#f0f921\"]],\"type\":\"heatmapgl\"}],\"heatmap\":[{\"colorbar\":{\"outlinewidth\":0,\"ticks\":\"\"},\"colorscale\":[[0.0,\"#0d0887\"],[0.1111111111111111,\"#46039f\"],[0.2222222222222222,\"#7201a8\"],[0.3333333333333333,\"#9c179e\"],[0.4444444444444444,\"#bd3786\"],[0.5555555555555556,\"#d8576b\"],[0.6666666666666666,\"#ed7953\"],[0.7777777777777778,\"#fb9f3a\"],[0.8888888888888888,\"#fdca26\"],[1.0,\"#f0f921\"]],\"type\":\"heatmap\"}],\"histogram2dcontour\":[{\"colorbar\":{\"outlinewidth\":0,\"ticks\":\"\"},\"colorscale\":[[0.0,\"#0d0887\"],[0.1111111111111111,\"#46039f\"],[0.2222222222222222,\"#7201a8\"],[0.3333333333333333,\"#9c179e\"],[0.4444444444444444,\"#bd3786\"],[0.5555555555555556,\"#d8576b\"],[0.6666666666666666,\"#ed7953\"],[0.7777777777777778,\"#fb9f3a\"],[0.8888888888888888,\"#fdca26\"],[1.0,\"#f0f921\"]],\"type\":\"histogram2dcontour\"}],\"histogram2d\":[{\"colorbar\":{\"outlinewidth\":0,\"ticks\":\"\"},\"colorscale\":[[0.0,\"#0d0887\"],[0.1111111111111111,\"#46039f\"],[0.2222222222222222,\"#7201a8\"],[0.3333333333333333,\"#9c179e\"],[0.4444444444444444,\"#bd3786\"],[0.5555555555555556,\"#d8576b\"],[0.6666666666666666,\"#ed7953\"],[0.7777777777777778,\"#fb9f3a\"],[0.8888888888888888,\"#fdca26\"],[1.0,\"#f0f921\"]],\"type\":\"histogram2d\"}],\"histogram\":[{\"marker\":{\"pattern\":{\"fillmode\":\"overlay\",\"size\":10,\"solidity\":0.2}},\"type\":\"histogram\"}],\"mesh3d\":[{\"colorbar\":{\"outlinewidth\":0,\"ticks\":\"\"},\"type\":\"mesh3d\"}],\"parcoords\":[{\"line\":{\"colorbar\":{\"outlinewidth\":0,\"ticks\":\"\"}},\"type\":\"parcoords\"}],\"pie\":[{\"automargin\":true,\"type\":\"pie\"}],\"scatter3d\":[{\"line\":{\"colorbar\":{\"outlinewidth\":0,\"ticks\":\"\"}},\"marker\":{\"colorbar\":{\"outlinewidth\":0,\"ticks\":\"\"}},\"type\":\"scatter3d\"}],\"scattercarpet\":[{\"marker\":{\"colorbar\":{\"outlinewidth\":0,\"ticks\":\"\"}},\"type\":\"scattercarpet\"}],\"scattergeo\":[{\"marker\":{\"colorbar\":{\"outlinewidth\":0,\"ticks\":\"\"}},\"type\":\"scattergeo\"}],\"scattergl\":[{\"marker\":{\"colorbar\":{\"outlinewidth\":0,\"ticks\":\"\"}},\"type\":\"scattergl\"}],\"scattermapbox\":[{\"marker\":{\"colorbar\":{\"outlinewidth\":0,\"ticks\":\"\"}},\"type\":\"scattermapbox\"}],\"scatterpolargl\":[{\"marker\":{\"colorbar\":{\"outlinewidth\":0,\"ticks\":\"\"}},\"type\":\"scatterpolargl\"}],\"scatterpolar\":[{\"marker\":{\"colorbar\":{\"outlinewidth\":0,\"ticks\":\"\"}},\"type\":\"scatterpolar\"}],\"scatter\":[{\"fillpattern\":{\"fillmode\":\"overlay\",\"size\":10,\"solidity\":0.2},\"type\":\"scatter\"}],\"scatterternary\":[{\"marker\":{\"colorbar\":{\"outlinewidth\":0,\"ticks\":\"\"}},\"type\":\"scatterternary\"}],\"surface\":[{\"colorbar\":{\"outlinewidth\":0,\"ticks\":\"\"},\"colorscale\":[[0.0,\"#0d0887\"],[0.1111111111111111,\"#46039f\"],[0.2222222222222222,\"#7201a8\"],[0.3333333333333333,\"#9c179e\"],[0.4444444444444444,\"#bd3786\"],[0.5555555555555556,\"#d8576b\"],[0.6666666666666666,\"#ed7953\"],[0.7777777777777778,\"#fb9f3a\"],[0.8888888888888888,\"#fdca26\"],[1.0,\"#f0f921\"]],\"type\":\"surface\"}],\"table\":[{\"cells\":{\"fill\":{\"color\":\"#EBF0F8\"},\"line\":{\"color\":\"white\"}},\"header\":{\"fill\":{\"color\":\"#C8D4E3\"},\"line\":{\"color\":\"white\"}},\"type\":\"table\"}]},\"layout\":{\"annotationdefaults\":{\"arrowcolor\":\"#2a3f5f\",\"arrowhead\":0,\"arrowwidth\":1},\"autotypenumbers\":\"strict\",\"coloraxis\":{\"colorbar\":{\"outlinewidth\":0,\"ticks\":\"\"}},\"colorscale\":{\"diverging\":[[0,\"#8e0152\"],[0.1,\"#c51b7d\"],[0.2,\"#de77ae\"],[0.3,\"#f1b6da\"],[0.4,\"#fde0ef\"],[0.5,\"#f7f7f7\"],[0.6,\"#e6f5d0\"],[0.7,\"#b8e186\"],[0.8,\"#7fbc41\"],[0.9,\"#4d9221\"],[1,\"#276419\"]],\"sequential\":[[0.0,\"#0d0887\"],[0.1111111111111111,\"#46039f\"],[0.2222222222222222,\"#7201a8\"],[0.3333333333333333,\"#9c179e\"],[0.4444444444444444,\"#bd3786\"],[0.5555555555555556,\"#d8576b\"],[0.6666666666666666,\"#ed7953\"],[0.7777777777777778,\"#fb9f3a\"],[0.8888888888888888,\"#fdca26\"],[1.0,\"#f0f921\"]],\"sequentialminus\":[[0.0,\"#0d0887\"],[0.1111111111111111,\"#46039f\"],[0.2222222222222222,\"#7201a8\"],[0.3333333333333333,\"#9c179e\"],[0.4444444444444444,\"#bd3786\"],[0.5555555555555556,\"#d8576b\"],[0.6666666666666666,\"#ed7953\"],[0.7777777777777778,\"#fb9f3a\"],[0.8888888888888888,\"#fdca26\"],[1.0,\"#f0f921\"]]},\"colorway\":[\"#636efa\",\"#EF553B\",\"#00cc96\",\"#ab63fa\",\"#FFA15A\",\"#19d3f3\",\"#FF6692\",\"#B6E880\",\"#FF97FF\",\"#FECB52\"],\"font\":{\"color\":\"#2a3f5f\"},\"geo\":{\"bgcolor\":\"white\",\"lakecolor\":\"white\",\"landcolor\":\"white\",\"showlakes\":true,\"showland\":true,\"subunitcolor\":\"#C8D4E3\"},\"hoverlabel\":{\"align\":\"left\"},\"hovermode\":\"closest\",\"mapbox\":{\"style\":\"light\"},\"paper_bgcolor\":\"white\",\"plot_bgcolor\":\"white\",\"polar\":{\"angularaxis\":{\"gridcolor\":\"#EBF0F8\",\"linecolor\":\"#EBF0F8\",\"ticks\":\"\"},\"bgcolor\":\"white\",\"radialaxis\":{\"gridcolor\":\"#EBF0F8\",\"linecolor\":\"#EBF0F8\",\"ticks\":\"\"}},\"scene\":{\"xaxis\":{\"backgroundcolor\":\"white\",\"gridcolor\":\"#DFE8F3\",\"gridwidth\":2,\"linecolor\":\"#EBF0F8\",\"showbackground\":true,\"ticks\":\"\",\"zerolinecolor\":\"#EBF0F8\"},\"yaxis\":{\"backgroundcolor\":\"white\",\"gridcolor\":\"#DFE8F3\",\"gridwidth\":2,\"linecolor\":\"#EBF0F8\",\"showbackground\":true,\"ticks\":\"\",\"zerolinecolor\":\"#EBF0F8\"},\"zaxis\":{\"backgroundcolor\":\"white\",\"gridcolor\":\"#DFE8F3\",\"gridwidth\":2,\"linecolor\":\"#EBF0F8\",\"showbackground\":true,\"ticks\":\"\",\"zerolinecolor\":\"#EBF0F8\"}},\"shapedefaults\":{\"line\":{\"color\":\"#2a3f5f\"}},\"ternary\":{\"aaxis\":{\"gridcolor\":\"#DFE8F3\",\"linecolor\":\"#A2B1C6\",\"ticks\":\"\"},\"baxis\":{\"gridcolor\":\"#DFE8F3\",\"linecolor\":\"#A2B1C6\",\"ticks\":\"\"},\"bgcolor\":\"white\",\"caxis\":{\"gridcolor\":\"#DFE8F3\",\"linecolor\":\"#A2B1C6\",\"ticks\":\"\"}},\"title\":{\"x\":0.05},\"xaxis\":{\"automargin\":true,\"gridcolor\":\"#EBF0F8\",\"linecolor\":\"#EBF0F8\",\"ticks\":\"\",\"title\":{\"standoff\":15},\"zerolinecolor\":\"#EBF0F8\",\"zerolinewidth\":2},\"yaxis\":{\"automargin\":true,\"gridcolor\":\"#EBF0F8\",\"linecolor\":\"#EBF0F8\",\"ticks\":\"\",\"title\":{\"standoff\":15},\"zerolinecolor\":\"#EBF0F8\",\"zerolinewidth\":2}}},\"xaxis\":{\"anchor\":\"y\",\"domain\":[0.0,1.0],\"title\":{\"text\":\"Total Value\"}},\"yaxis\":{\"anchor\":\"x\",\"domain\":[0.0,1.0],\"title\":{\"text\":\"Transaction Count\"}},\"legend\":{\"title\":{\"text\":\"Category\"},\"tracegroupgap\":0,\"itemsizing\":\"constant\"},\"title\":{\"text\":\"Bubble Chart of Transaction Count vs Total Value by Category\"}},                        {\"responsive\": true}                    ).then(function(){\n",
       "                            \n",
       "var gd = document.getElementById('e9a10760-b6d0-4ab4-8ba6-042ad5935d1c');\n",
       "var x = new MutationObserver(function (mutations, observer) {{\n",
       "        var display = window.getComputedStyle(gd).display;\n",
       "        if (!display || display === 'none') {{\n",
       "            console.log([gd, 'removed!']);\n",
       "            Plotly.purge(gd);\n",
       "            observer.disconnect();\n",
       "        }}\n",
       "}});\n",
       "\n",
       "// Listen for the removal of the full notebook cells\n",
       "var notebookContainer = gd.closest('#notebook-container');\n",
       "if (notebookContainer) {{\n",
       "    x.observe(notebookContainer, {childList: true});\n",
       "}}\n",
       "\n",
       "// Listen for the clearing of the current output cell\n",
       "var outputEl = gd.closest('.output');\n",
       "if (outputEl) {{\n",
       "    x.observe(outputEl, {childList: true});\n",
       "}}\n",
       "\n",
       "                        })                };                });            </script>        </div>"
      ]
     },
     "metadata": {},
     "output_type": "display_data"
    }
   ],
   "source": [
    "import plotly.express as px\n",
    "import pandas as pd\n",
    "\n",
    "# Aggregate data to get the total value and count of transactions by category\n",
    "bubble_data = df.groupby('Category').agg({\n",
    "    'Value': 'sum',         # Total value for each category\n",
    "    'Import_Export': 'count' # Total transaction count for each category\n",
    "}).reset_index()\n",
    "\n",
    "# Rename columns for clarity\n",
    "bubble_data.rename(columns={'Import_Export': 'Transaction Count', 'Value': 'Total Value'}, inplace=True)\n",
    "\n",
    "# Create a bubble chart\n",
    "fig = px.scatter(bubble_data, \n",
    "                 x='Total Value', \n",
    "                 y='Transaction Count', \n",
    "                 size='Transaction Count', \n",
    "                 color='Category', \n",
    "                 hover_name='Category',\n",
    "                 title='Bubble Chart of Transaction Count vs Total Value by Category',\n",
    "                 size_max=60,  # Maximum bubble size\n",
    "                 template='plotly_white')\n",
    "\n",
    "# Show the bubble chart\n",
    "fig.show()\n"
   ]
  },
  {
   "cell_type": "code",
   "execution_count": 43,
   "id": "5e669355-8bd2-40c3-9068-6d276c7318af",
   "metadata": {},
   "outputs": [
    {
     "data": {
      "application/vnd.plotly.v1+json": {
       "config": {
        "plotlyServerURL": "https://plot.ly"
       },
       "data": [
        {
         "branchvalues": "total",
         "customdata": [
          [
           1573504.53
          ],
          [
           1554313.38
          ],
          [
           1532986.85
          ],
          [
           1491746.77
          ],
          [
           1430432.64
          ],
          [
           1587391.95
          ],
          [
           1428218.51
          ],
          [
           1707192.83
          ],
          [
           1662107.53
          ],
          [
           1313348.98
          ],
          [
           1580478.747236709
          ],
          [
           1493931.4514935983
          ],
          [
           1624772.8709527403
          ],
          [
           1581528.3119096956
          ],
          [
           1374388.9285344835
          ]
         ],
         "domain": {
          "x": [
           0,
           1
          ],
          "y": [
           0,
           1
          ]
         },
         "hovertemplate": "labels=%{label}<br>Value_sum=%{value}<br>parent=%{parent}<br>id=%{id}<br>Value=%{color}<extra></extra>",
         "ids": [
          "Clothing/Export",
          "Electronics/Export",
          "Furniture/Export",
          "Machinery/Export",
          "Toys/Export",
          "Clothing/Import",
          "Electronics/Import",
          "Furniture/Import",
          "Machinery/Import",
          "Toys/Import",
          "Clothing",
          "Electronics",
          "Furniture",
          "Machinery",
          "Toys"
         ],
         "labels": [
          "Export",
          "Export",
          "Export",
          "Export",
          "Export",
          "Import",
          "Import",
          "Import",
          "Import",
          "Import",
          "Clothing",
          "Electronics",
          "Furniture",
          "Machinery",
          "Toys"
         ],
         "marker": {
          "coloraxis": "coloraxis",
          "colors": [
           1573504.53,
           1554313.38,
           1532986.85,
           1491746.77,
           1430432.64,
           1587391.95,
           1428218.51,
           1707192.83,
           1662107.53,
           1313348.98,
           1580478.747236709,
           1493931.4514935983,
           1624772.8709527403,
           1581528.3119096956,
           1374388.9285344835
          ]
         },
         "name": "",
         "parents": [
          "Clothing",
          "Electronics",
          "Furniture",
          "Machinery",
          "Toys",
          "Clothing",
          "Electronics",
          "Furniture",
          "Machinery",
          "Toys",
          "",
          "",
          "",
          "",
          ""
         ],
         "type": "sunburst",
         "values": [
          1573504.53,
          1554313.38,
          1532986.85,
          1491746.77,
          1430432.64,
          1587391.95,
          1428218.51,
          1707192.83,
          1662107.53,
          1313348.98,
          3160896.48,
          2982531.8899999997,
          3240179.68,
          3153854.3,
          2743781.62
         ]
        }
       ],
       "layout": {
        "autosize": true,
        "coloraxis": {
         "colorbar": {
          "title": {
           "text": "Value"
          }
         },
         "colorscale": [
          [
           0,
           "#440154"
          ],
          [
           0.1111111111111111,
           "#482878"
          ],
          [
           0.2222222222222222,
           "#3e4989"
          ],
          [
           0.3333333333333333,
           "#31688e"
          ],
          [
           0.4444444444444444,
           "#26828e"
          ],
          [
           0.5555555555555556,
           "#1f9e89"
          ],
          [
           0.6666666666666666,
           "#35b779"
          ],
          [
           0.7777777777777778,
           "#6ece58"
          ],
          [
           0.8888888888888888,
           "#b5de2b"
          ],
          [
           1,
           "#fde725"
          ]
         ]
        },
        "legend": {
         "tracegroupgap": 0
        },
        "template": {
         "data": {
          "bar": [
           {
            "error_x": {
             "color": "#2a3f5f"
            },
            "error_y": {
             "color": "#2a3f5f"
            },
            "marker": {
             "line": {
              "color": "#E5ECF6",
              "width": 0.5
             },
             "pattern": {
              "fillmode": "overlay",
              "size": 10,
              "solidity": 0.2
             }
            },
            "type": "bar"
           }
          ],
          "barpolar": [
           {
            "marker": {
             "line": {
              "color": "#E5ECF6",
              "width": 0.5
             },
             "pattern": {
              "fillmode": "overlay",
              "size": 10,
              "solidity": 0.2
             }
            },
            "type": "barpolar"
           }
          ],
          "carpet": [
           {
            "aaxis": {
             "endlinecolor": "#2a3f5f",
             "gridcolor": "white",
             "linecolor": "white",
             "minorgridcolor": "white",
             "startlinecolor": "#2a3f5f"
            },
            "baxis": {
             "endlinecolor": "#2a3f5f",
             "gridcolor": "white",
             "linecolor": "white",
             "minorgridcolor": "white",
             "startlinecolor": "#2a3f5f"
            },
            "type": "carpet"
           }
          ],
          "choropleth": [
           {
            "colorbar": {
             "outlinewidth": 0,
             "ticks": ""
            },
            "type": "choropleth"
           }
          ],
          "contour": [
           {
            "colorbar": {
             "outlinewidth": 0,
             "ticks": ""
            },
            "colorscale": [
             [
              0,
              "#0d0887"
             ],
             [
              0.1111111111111111,
              "#46039f"
             ],
             [
              0.2222222222222222,
              "#7201a8"
             ],
             [
              0.3333333333333333,
              "#9c179e"
             ],
             [
              0.4444444444444444,
              "#bd3786"
             ],
             [
              0.5555555555555556,
              "#d8576b"
             ],
             [
              0.6666666666666666,
              "#ed7953"
             ],
             [
              0.7777777777777778,
              "#fb9f3a"
             ],
             [
              0.8888888888888888,
              "#fdca26"
             ],
             [
              1,
              "#f0f921"
             ]
            ],
            "type": "contour"
           }
          ],
          "contourcarpet": [
           {
            "colorbar": {
             "outlinewidth": 0,
             "ticks": ""
            },
            "type": "contourcarpet"
           }
          ],
          "heatmap": [
           {
            "colorbar": {
             "outlinewidth": 0,
             "ticks": ""
            },
            "colorscale": [
             [
              0,
              "#0d0887"
             ],
             [
              0.1111111111111111,
              "#46039f"
             ],
             [
              0.2222222222222222,
              "#7201a8"
             ],
             [
              0.3333333333333333,
              "#9c179e"
             ],
             [
              0.4444444444444444,
              "#bd3786"
             ],
             [
              0.5555555555555556,
              "#d8576b"
             ],
             [
              0.6666666666666666,
              "#ed7953"
             ],
             [
              0.7777777777777778,
              "#fb9f3a"
             ],
             [
              0.8888888888888888,
              "#fdca26"
             ],
             [
              1,
              "#f0f921"
             ]
            ],
            "type": "heatmap"
           }
          ],
          "heatmapgl": [
           {
            "colorbar": {
             "outlinewidth": 0,
             "ticks": ""
            },
            "colorscale": [
             [
              0,
              "#0d0887"
             ],
             [
              0.1111111111111111,
              "#46039f"
             ],
             [
              0.2222222222222222,
              "#7201a8"
             ],
             [
              0.3333333333333333,
              "#9c179e"
             ],
             [
              0.4444444444444444,
              "#bd3786"
             ],
             [
              0.5555555555555556,
              "#d8576b"
             ],
             [
              0.6666666666666666,
              "#ed7953"
             ],
             [
              0.7777777777777778,
              "#fb9f3a"
             ],
             [
              0.8888888888888888,
              "#fdca26"
             ],
             [
              1,
              "#f0f921"
             ]
            ],
            "type": "heatmapgl"
           }
          ],
          "histogram": [
           {
            "marker": {
             "pattern": {
              "fillmode": "overlay",
              "size": 10,
              "solidity": 0.2
             }
            },
            "type": "histogram"
           }
          ],
          "histogram2d": [
           {
            "colorbar": {
             "outlinewidth": 0,
             "ticks": ""
            },
            "colorscale": [
             [
              0,
              "#0d0887"
             ],
             [
              0.1111111111111111,
              "#46039f"
             ],
             [
              0.2222222222222222,
              "#7201a8"
             ],
             [
              0.3333333333333333,
              "#9c179e"
             ],
             [
              0.4444444444444444,
              "#bd3786"
             ],
             [
              0.5555555555555556,
              "#d8576b"
             ],
             [
              0.6666666666666666,
              "#ed7953"
             ],
             [
              0.7777777777777778,
              "#fb9f3a"
             ],
             [
              0.8888888888888888,
              "#fdca26"
             ],
             [
              1,
              "#f0f921"
             ]
            ],
            "type": "histogram2d"
           }
          ],
          "histogram2dcontour": [
           {
            "colorbar": {
             "outlinewidth": 0,
             "ticks": ""
            },
            "colorscale": [
             [
              0,
              "#0d0887"
             ],
             [
              0.1111111111111111,
              "#46039f"
             ],
             [
              0.2222222222222222,
              "#7201a8"
             ],
             [
              0.3333333333333333,
              "#9c179e"
             ],
             [
              0.4444444444444444,
              "#bd3786"
             ],
             [
              0.5555555555555556,
              "#d8576b"
             ],
             [
              0.6666666666666666,
              "#ed7953"
             ],
             [
              0.7777777777777778,
              "#fb9f3a"
             ],
             [
              0.8888888888888888,
              "#fdca26"
             ],
             [
              1,
              "#f0f921"
             ]
            ],
            "type": "histogram2dcontour"
           }
          ],
          "mesh3d": [
           {
            "colorbar": {
             "outlinewidth": 0,
             "ticks": ""
            },
            "type": "mesh3d"
           }
          ],
          "parcoords": [
           {
            "line": {
             "colorbar": {
              "outlinewidth": 0,
              "ticks": ""
             }
            },
            "type": "parcoords"
           }
          ],
          "pie": [
           {
            "automargin": true,
            "type": "pie"
           }
          ],
          "scatter": [
           {
            "fillpattern": {
             "fillmode": "overlay",
             "size": 10,
             "solidity": 0.2
            },
            "type": "scatter"
           }
          ],
          "scatter3d": [
           {
            "line": {
             "colorbar": {
              "outlinewidth": 0,
              "ticks": ""
             }
            },
            "marker": {
             "colorbar": {
              "outlinewidth": 0,
              "ticks": ""
             }
            },
            "type": "scatter3d"
           }
          ],
          "scattercarpet": [
           {
            "marker": {
             "colorbar": {
              "outlinewidth": 0,
              "ticks": ""
             }
            },
            "type": "scattercarpet"
           }
          ],
          "scattergeo": [
           {
            "marker": {
             "colorbar": {
              "outlinewidth": 0,
              "ticks": ""
             }
            },
            "type": "scattergeo"
           }
          ],
          "scattergl": [
           {
            "marker": {
             "colorbar": {
              "outlinewidth": 0,
              "ticks": ""
             }
            },
            "type": "scattergl"
           }
          ],
          "scattermapbox": [
           {
            "marker": {
             "colorbar": {
              "outlinewidth": 0,
              "ticks": ""
             }
            },
            "type": "scattermapbox"
           }
          ],
          "scatterpolar": [
           {
            "marker": {
             "colorbar": {
              "outlinewidth": 0,
              "ticks": ""
             }
            },
            "type": "scatterpolar"
           }
          ],
          "scatterpolargl": [
           {
            "marker": {
             "colorbar": {
              "outlinewidth": 0,
              "ticks": ""
             }
            },
            "type": "scatterpolargl"
           }
          ],
          "scatterternary": [
           {
            "marker": {
             "colorbar": {
              "outlinewidth": 0,
              "ticks": ""
             }
            },
            "type": "scatterternary"
           }
          ],
          "surface": [
           {
            "colorbar": {
             "outlinewidth": 0,
             "ticks": ""
            },
            "colorscale": [
             [
              0,
              "#0d0887"
             ],
             [
              0.1111111111111111,
              "#46039f"
             ],
             [
              0.2222222222222222,
              "#7201a8"
             ],
             [
              0.3333333333333333,
              "#9c179e"
             ],
             [
              0.4444444444444444,
              "#bd3786"
             ],
             [
              0.5555555555555556,
              "#d8576b"
             ],
             [
              0.6666666666666666,
              "#ed7953"
             ],
             [
              0.7777777777777778,
              "#fb9f3a"
             ],
             [
              0.8888888888888888,
              "#fdca26"
             ],
             [
              1,
              "#f0f921"
             ]
            ],
            "type": "surface"
           }
          ],
          "table": [
           {
            "cells": {
             "fill": {
              "color": "#EBF0F8"
             },
             "line": {
              "color": "white"
             }
            },
            "header": {
             "fill": {
              "color": "#C8D4E3"
             },
             "line": {
              "color": "white"
             }
            },
            "type": "table"
           }
          ]
         },
         "layout": {
          "annotationdefaults": {
           "arrowcolor": "#2a3f5f",
           "arrowhead": 0,
           "arrowwidth": 1
          },
          "autotypenumbers": "strict",
          "coloraxis": {
           "colorbar": {
            "outlinewidth": 0,
            "ticks": ""
           }
          },
          "colorscale": {
           "diverging": [
            [
             0,
             "#8e0152"
            ],
            [
             0.1,
             "#c51b7d"
            ],
            [
             0.2,
             "#de77ae"
            ],
            [
             0.3,
             "#f1b6da"
            ],
            [
             0.4,
             "#fde0ef"
            ],
            [
             0.5,
             "#f7f7f7"
            ],
            [
             0.6,
             "#e6f5d0"
            ],
            [
             0.7,
             "#b8e186"
            ],
            [
             0.8,
             "#7fbc41"
            ],
            [
             0.9,
             "#4d9221"
            ],
            [
             1,
             "#276419"
            ]
           ],
           "sequential": [
            [
             0,
             "#0d0887"
            ],
            [
             0.1111111111111111,
             "#46039f"
            ],
            [
             0.2222222222222222,
             "#7201a8"
            ],
            [
             0.3333333333333333,
             "#9c179e"
            ],
            [
             0.4444444444444444,
             "#bd3786"
            ],
            [
             0.5555555555555556,
             "#d8576b"
            ],
            [
             0.6666666666666666,
             "#ed7953"
            ],
            [
             0.7777777777777778,
             "#fb9f3a"
            ],
            [
             0.8888888888888888,
             "#fdca26"
            ],
            [
             1,
             "#f0f921"
            ]
           ],
           "sequentialminus": [
            [
             0,
             "#0d0887"
            ],
            [
             0.1111111111111111,
             "#46039f"
            ],
            [
             0.2222222222222222,
             "#7201a8"
            ],
            [
             0.3333333333333333,
             "#9c179e"
            ],
            [
             0.4444444444444444,
             "#bd3786"
            ],
            [
             0.5555555555555556,
             "#d8576b"
            ],
            [
             0.6666666666666666,
             "#ed7953"
            ],
            [
             0.7777777777777778,
             "#fb9f3a"
            ],
            [
             0.8888888888888888,
             "#fdca26"
            ],
            [
             1,
             "#f0f921"
            ]
           ]
          },
          "colorway": [
           "#636efa",
           "#EF553B",
           "#00cc96",
           "#ab63fa",
           "#FFA15A",
           "#19d3f3",
           "#FF6692",
           "#B6E880",
           "#FF97FF",
           "#FECB52"
          ],
          "font": {
           "color": "#2a3f5f"
          },
          "geo": {
           "bgcolor": "white",
           "lakecolor": "white",
           "landcolor": "#E5ECF6",
           "showlakes": true,
           "showland": true,
           "subunitcolor": "white"
          },
          "hoverlabel": {
           "align": "left"
          },
          "hovermode": "closest",
          "mapbox": {
           "style": "light"
          },
          "paper_bgcolor": "white",
          "plot_bgcolor": "#E5ECF6",
          "polar": {
           "angularaxis": {
            "gridcolor": "white",
            "linecolor": "white",
            "ticks": ""
           },
           "bgcolor": "#E5ECF6",
           "radialaxis": {
            "gridcolor": "white",
            "linecolor": "white",
            "ticks": ""
           }
          },
          "scene": {
           "xaxis": {
            "backgroundcolor": "#E5ECF6",
            "gridcolor": "white",
            "gridwidth": 2,
            "linecolor": "white",
            "showbackground": true,
            "ticks": "",
            "zerolinecolor": "white"
           },
           "yaxis": {
            "backgroundcolor": "#E5ECF6",
            "gridcolor": "white",
            "gridwidth": 2,
            "linecolor": "white",
            "showbackground": true,
            "ticks": "",
            "zerolinecolor": "white"
           },
           "zaxis": {
            "backgroundcolor": "#E5ECF6",
            "gridcolor": "white",
            "gridwidth": 2,
            "linecolor": "white",
            "showbackground": true,
            "ticks": "",
            "zerolinecolor": "white"
           }
          },
          "shapedefaults": {
           "line": {
            "color": "#2a3f5f"
           }
          },
          "ternary": {
           "aaxis": {
            "gridcolor": "white",
            "linecolor": "white",
            "ticks": ""
           },
           "baxis": {
            "gridcolor": "white",
            "linecolor": "white",
            "ticks": ""
           },
           "bgcolor": "#E5ECF6",
           "caxis": {
            "gridcolor": "white",
            "linecolor": "white",
            "ticks": ""
           }
          },
          "title": {
           "x": 0.05
          },
          "xaxis": {
           "automargin": true,
           "gridcolor": "white",
           "linecolor": "white",
           "ticks": "",
           "title": {
            "standoff": 15
           },
           "zerolinecolor": "white",
           "zerolinewidth": 2
          },
          "yaxis": {
           "automargin": true,
           "gridcolor": "white",
           "linecolor": "white",
           "ticks": "",
           "title": {
            "standoff": 15
           },
           "zerolinecolor": "white",
           "zerolinewidth": 2
          }
         }
        },
        "title": {
         "text": "Sunburst Chart of Import/Export Values by Category"
        }
       }
      },
      "image/png": "[encoded data removed]",
      "text/html": [
       "<div>                            <div id=\"36a81391-3db4-4aec-ab11-6a80d4b9311c\" class=\"plotly-graph-div\" style=\"height:525px; width:100%;\"></div>            <script type=\"text/javascript\">                require([\"plotly\"], function(Plotly) {                    window.PLOTLYENV=window.PLOTLYENV || {};                                    if (document.getElementById(\"36a81391-3db4-4aec-ab11-6a80d4b9311c\")) {                    Plotly.newPlot(                        \"36a81391-3db4-4aec-ab11-6a80d4b9311c\",                        [{\"branchvalues\":\"total\",\"customdata\":[[1573504.53],[1554313.38],[1532986.85],[1491746.77],[1430432.64],[1587391.95],[1428218.51],[1707192.83],[1662107.53],[1313348.98],[1580478.747236709],[1493931.4514935983],[1624772.8709527403],[1581528.3119096956],[1374388.9285344835]],\"domain\":{\"x\":[0.0,1.0],\"y\":[0.0,1.0]},\"hovertemplate\":\"labels=%{label}\\u003cbr\\u003eValue_sum=%{value}\\u003cbr\\u003eparent=%{parent}\\u003cbr\\u003eid=%{id}\\u003cbr\\u003eValue=%{color}\\u003cextra\\u003e\\u003c\\u002fextra\\u003e\",\"ids\":[\"Clothing\\u002fExport\",\"Electronics\\u002fExport\",\"Furniture\\u002fExport\",\"Machinery\\u002fExport\",\"Toys\\u002fExport\",\"Clothing\\u002fImport\",\"Electronics\\u002fImport\",\"Furniture\\u002fImport\",\"Machinery\\u002fImport\",\"Toys\\u002fImport\",\"Clothing\",\"Electronics\",\"Furniture\",\"Machinery\",\"Toys\"],\"labels\":[\"Export\",\"Export\",\"Export\",\"Export\",\"Export\",\"Import\",\"Import\",\"Import\",\"Import\",\"Import\",\"Clothing\",\"Electronics\",\"Furniture\",\"Machinery\",\"Toys\"],\"marker\":{\"coloraxis\":\"coloraxis\",\"colors\":[1573504.53,1554313.38,1532986.85,1491746.77,1430432.64,1587391.95,1428218.51,1707192.83,1662107.53,1313348.98,1580478.747236709,1493931.4514935983,1624772.8709527403,1581528.3119096956,1374388.9285344835]},\"name\":\"\",\"parents\":[\"Clothing\",\"Electronics\",\"Furniture\",\"Machinery\",\"Toys\",\"Clothing\",\"Electronics\",\"Furniture\",\"Machinery\",\"Toys\",\"\",\"\",\"\",\"\",\"\"],\"values\":[1573504.53,1554313.38,1532986.85,1491746.77,1430432.64,1587391.95,1428218.51,1707192.83,1662107.53,1313348.98,3160896.48,2982531.8899999997,3240179.68,3153854.3,2743781.62],\"type\":\"sunburst\"}],                        {\"template\":{\"data\":{\"histogram2dcontour\":[{\"type\":\"histogram2dcontour\",\"colorbar\":{\"outlinewidth\":0,\"ticks\":\"\"},\"colorscale\":[[0.0,\"#0d0887\"],[0.1111111111111111,\"#46039f\"],[0.2222222222222222,\"#7201a8\"],[0.3333333333333333,\"#9c179e\"],[0.4444444444444444,\"#bd3786\"],[0.5555555555555556,\"#d8576b\"],[0.6666666666666666,\"#ed7953\"],[0.7777777777777778,\"#fb9f3a\"],[0.8888888888888888,\"#fdca26\"],[1.0,\"#f0f921\"]]}],\"choropleth\":[{\"type\":\"choropleth\",\"colorbar\":{\"outlinewidth\":0,\"ticks\":\"\"}}],\"histogram2d\":[{\"type\":\"histogram2d\",\"colorbar\":{\"outlinewidth\":0,\"ticks\":\"\"},\"colorscale\":[[0.0,\"#0d0887\"],[0.1111111111111111,\"#46039f\"],[0.2222222222222222,\"#7201a8\"],[0.3333333333333333,\"#9c179e\"],[0.4444444444444444,\"#bd3786\"],[0.5555555555555556,\"#d8576b\"],[0.6666666666666666,\"#ed7953\"],[0.7777777777777778,\"#fb9f3a\"],[0.8888888888888888,\"#fdca26\"],[1.0,\"#f0f921\"]]}],\"heatmap\":[{\"type\":\"heatmap\",\"colorbar\":{\"outlinewidth\":0,\"ticks\":\"\"},\"colorscale\":[[0.0,\"#0d0887\"],[0.1111111111111111,\"#46039f\"],[0.2222222222222222,\"#7201a8\"],[0.3333333333333333,\"#9c179e\"],[0.4444444444444444,\"#bd3786\"],[0.5555555555555556,\"#d8576b\"],[0.6666666666666666,\"#ed7953\"],[0.7777777777777778,\"#fb9f3a\"],[0.8888888888888888,\"#fdca26\"],[1.0,\"#f0f921\"]]}],\"heatmapgl\":[{\"type\":\"heatmapgl\",\"colorbar\":{\"outlinewidth\":0,\"ticks\":\"\"},\"colorscale\":[[0.0,\"#0d0887\"],[0.1111111111111111,\"#46039f\"],[0.2222222222222222,\"#7201a8\"],[0.3333333333333333,\"#9c179e\"],[0.4444444444444444,\"#bd3786\"],[0.5555555555555556,\"#d8576b\"],[0.6666666666666666,\"#ed7953\"],[0.7777777777777778,\"#fb9f3a\"],[0.8888888888888888,\"#fdca26\"],[1.0,\"#f0f921\"]]}],\"contourcarpet\":[{\"type\":\"contourcarpet\",\"colorbar\":{\"outlinewidth\":0,\"ticks\":\"\"}}],\"contour\":[{\"type\":\"contour\",\"colorbar\":{\"outlinewidth\":0,\"ticks\":\"\"},\"colorscale\":[[0.0,\"#0d0887\"],[0.1111111111111111,\"#46039f\"],[0.2222222222222222,\"#7201a8\"],[0.3333333333333333,\"#9c179e\"],[0.4444444444444444,\"#bd3786\"],[0.5555555555555556,\"#d8576b\"],[0.6666666666666666,\"#ed7953\"],[0.7777777777777778,\"#fb9f3a\"],[0.8888888888888888,\"#fdca26\"],[1.0,\"#f0f921\"]]}],\"surface\":[{\"type\":\"surface\",\"colorbar\":{\"outlinewidth\":0,\"ticks\":\"\"},\"colorscale\":[[0.0,\"#0d0887\"],[0.1111111111111111,\"#46039f\"],[0.2222222222222222,\"#7201a8\"],[0.3333333333333333,\"#9c179e\"],[0.4444444444444444,\"#bd3786\"],[0.5555555555555556,\"#d8576b\"],[0.6666666666666666,\"#ed7953\"],[0.7777777777777778,\"#fb9f3a\"],[0.8888888888888888,\"#fdca26\"],[1.0,\"#f0f921\"]]}],\"mesh3d\":[{\"type\":\"mesh3d\",\"colorbar\":{\"outlinewidth\":0,\"ticks\":\"\"}}],\"scatter\":[{\"fillpattern\":{\"fillmode\":\"overlay\",\"size\":10,\"solidity\":0.2},\"type\":\"scatter\"}],\"parcoords\":[{\"type\":\"parcoords\",\"line\":{\"colorbar\":{\"outlinewidth\":0,\"ticks\":\"\"}}}],\"scatterpolargl\":[{\"type\":\"scatterpolargl\",\"marker\":{\"colorbar\":{\"outlinewidth\":0,\"ticks\":\"\"}}}],\"bar\":[{\"error_x\":{\"color\":\"#2a3f5f\"},\"error_y\":{\"color\":\"#2a3f5f\"},\"marker\":{\"line\":{\"color\":\"#E5ECF6\",\"width\":0.5},\"pattern\":{\"fillmode\":\"overlay\",\"size\":10,\"solidity\":0.2}},\"type\":\"bar\"}],\"scattergeo\":[{\"type\":\"scattergeo\",\"marker\":{\"colorbar\":{\"outlinewidth\":0,\"ticks\":\"\"}}}],\"scatterpolar\":[{\"type\":\"scatterpolar\",\"marker\":{\"colorbar\":{\"outlinewidth\":0,\"ticks\":\"\"}}}],\"histogram\":[{\"marker\":{\"pattern\":{\"fillmode\":\"overlay\",\"size\":10,\"solidity\":0.2}},\"type\":\"histogram\"}],\"scattergl\":[{\"type\":\"scattergl\",\"marker\":{\"colorbar\":{\"outlinewidth\":0,\"ticks\":\"\"}}}],\"scatter3d\":[{\"type\":\"scatter3d\",\"line\":{\"colorbar\":{\"outlinewidth\":0,\"ticks\":\"\"}},\"marker\":{\"colorbar\":{\"outlinewidth\":0,\"ticks\":\"\"}}}],\"scattermapbox\":[{\"type\":\"scattermapbox\",\"marker\":{\"colorbar\":{\"outlinewidth\":0,\"ticks\":\"\"}}}],\"scatterternary\":[{\"type\":\"scatterternary\",\"marker\":{\"colorbar\":{\"outlinewidth\":0,\"ticks\":\"\"}}}],\"scattercarpet\":[{\"type\":\"scattercarpet\",\"marker\":{\"colorbar\":{\"outlinewidth\":0,\"ticks\":\"\"}}}],\"carpet\":[{\"aaxis\":{\"endlinecolor\":\"#2a3f5f\",\"gridcolor\":\"white\",\"linecolor\":\"white\",\"minorgridcolor\":\"white\",\"startlinecolor\":\"#2a3f5f\"},\"baxis\":{\"endlinecolor\":\"#2a3f5f\",\"gridcolor\":\"white\",\"linecolor\":\"white\",\"minorgridcolor\":\"white\",\"startlinecolor\":\"#2a3f5f\"},\"type\":\"carpet\"}],\"table\":[{\"cells\":{\"fill\":{\"color\":\"#EBF0F8\"},\"line\":{\"color\":\"white\"}},\"header\":{\"fill\":{\"color\":\"#C8D4E3\"},\"line\":{\"color\":\"white\"}},\"type\":\"table\"}],\"barpolar\":[{\"marker\":{\"line\":{\"color\":\"#E5ECF6\",\"width\":0.5},\"pattern\":{\"fillmode\":\"overlay\",\"size\":10,\"solidity\":0.2}},\"type\":\"barpolar\"}],\"pie\":[{\"automargin\":true,\"type\":\"pie\"}]},\"layout\":{\"autotypenumbers\":\"strict\",\"colorway\":[\"#636efa\",\"#EF553B\",\"#00cc96\",\"#ab63fa\",\"#FFA15A\",\"#19d3f3\",\"#FF6692\",\"#B6E880\",\"#FF97FF\",\"#FECB52\"],\"font\":{\"color\":\"#2a3f5f\"},\"hovermode\":\"closest\",\"hoverlabel\":{\"align\":\"left\"},\"paper_bgcolor\":\"white\",\"plot_bgcolor\":\"#E5ECF6\",\"polar\":{\"bgcolor\":\"#E5ECF6\",\"angularaxis\":{\"gridcolor\":\"white\",\"linecolor\":\"white\",\"ticks\":\"\"},\"radialaxis\":{\"gridcolor\":\"white\",\"linecolor\":\"white\",\"ticks\":\"\"}},\"ternary\":{\"bgcolor\":\"#E5ECF6\",\"aaxis\":{\"gridcolor\":\"white\",\"linecolor\":\"white\",\"ticks\":\"\"},\"baxis\":{\"gridcolor\":\"white\",\"linecolor\":\"white\",\"ticks\":\"\"},\"caxis\":{\"gridcolor\":\"white\",\"linecolor\":\"white\",\"ticks\":\"\"}},\"coloraxis\":{\"colorbar\":{\"outlinewidth\":0,\"ticks\":\"\"}},\"colorscale\":{\"sequential\":[[0.0,\"#0d0887\"],[0.1111111111111111,\"#46039f\"],[0.2222222222222222,\"#7201a8\"],[0.3333333333333333,\"#9c179e\"],[0.4444444444444444,\"#bd3786\"],[0.5555555555555556,\"#d8576b\"],[0.6666666666666666,\"#ed7953\"],[0.7777777777777778,\"#fb9f3a\"],[0.8888888888888888,\"#fdca26\"],[1.0,\"#f0f921\"]],\"sequentialminus\":[[0.0,\"#0d0887\"],[0.1111111111111111,\"#46039f\"],[0.2222222222222222,\"#7201a8\"],[0.3333333333333333,\"#9c179e\"],[0.4444444444444444,\"#bd3786\"],[0.5555555555555556,\"#d8576b\"],[0.6666666666666666,\"#ed7953\"],[0.7777777777777778,\"#fb9f3a\"],[0.8888888888888888,\"#fdca26\"],[1.0,\"#f0f921\"]],\"diverging\":[[0,\"#8e0152\"],[0.1,\"#c51b7d\"],[0.2,\"#de77ae\"],[0.3,\"#f1b6da\"],[0.4,\"#fde0ef\"],[0.5,\"#f7f7f7\"],[0.6,\"#e6f5d0\"],[0.7,\"#b8e186\"],[0.8,\"#7fbc41\"],[0.9,\"#4d9221\"],[1,\"#276419\"]]},\"xaxis\":{\"gridcolor\":\"white\",\"linecolor\":\"white\",\"ticks\":\"\",\"title\":{\"standoff\":15},\"zerolinecolor\":\"white\",\"automargin\":true,\"zerolinewidth\":2},\"yaxis\":{\"gridcolor\":\"white\",\"linecolor\":\"white\",\"ticks\":\"\",\"title\":{\"standoff\":15},\"zerolinecolor\":\"white\",\"automargin\":true,\"zerolinewidth\":2},\"scene\":{\"xaxis\":{\"backgroundcolor\":\"#E5ECF6\",\"gridcolor\":\"white\",\"linecolor\":\"white\",\"showbackground\":true,\"ticks\":\"\",\"zerolinecolor\":\"white\",\"gridwidth\":2},\"yaxis\":{\"backgroundcolor\":\"#E5ECF6\",\"gridcolor\":\"white\",\"linecolor\":\"white\",\"showbackground\":true,\"ticks\":\"\",\"zerolinecolor\":\"white\",\"gridwidth\":2},\"zaxis\":{\"backgroundcolor\":\"#E5ECF6\",\"gridcolor\":\"white\",\"linecolor\":\"white\",\"showbackground\":true,\"ticks\":\"\",\"zerolinecolor\":\"white\",\"gridwidth\":2}},\"shapedefaults\":{\"line\":{\"color\":\"#2a3f5f\"}},\"annotationdefaults\":{\"arrowcolor\":\"#2a3f5f\",\"arrowhead\":0,\"arrowwidth\":1},\"geo\":{\"bgcolor\":\"white\",\"landcolor\":\"#E5ECF6\",\"subunitcolor\":\"white\",\"showland\":true,\"showlakes\":true,\"lakecolor\":\"white\"},\"title\":{\"x\":0.05},\"mapbox\":{\"style\":\"light\"}}},\"coloraxis\":{\"colorbar\":{\"title\":{\"text\":\"Value\"}},\"colorscale\":[[0.0,\"#440154\"],[0.1111111111111111,\"#482878\"],[0.2222222222222222,\"#3e4989\"],[0.3333333333333333,\"#31688e\"],[0.4444444444444444,\"#26828e\"],[0.5555555555555556,\"#1f9e89\"],[0.6666666666666666,\"#35b779\"],[0.7777777777777778,\"#6ece58\"],[0.8888888888888888,\"#b5de2b\"],[1.0,\"#fde725\"]]},\"legend\":{\"tracegroupgap\":0},\"title\":{\"text\":\"Sunburst Chart of Import\\u002fExport Values by Category\"}},                        {\"responsive\": true}                    ).then(function(){\n",
       "                            \n",
       "var gd = document.getElementById('36a81391-3db4-4aec-ab11-6a80d4b9311c');\n",
       "var x = new MutationObserver(function (mutations, observer) {{\n",
       "        var display = window.getComputedStyle(gd).display;\n",
       "        if (!display || display === 'none') {{\n",
       "            console.log([gd, 'removed!']);\n",
       "            Plotly.purge(gd);\n",
       "            observer.disconnect();\n",
       "        }}\n",
       "}});\n",
       "\n",
       "// Listen for the removal of the full notebook cells\n",
       "var notebookContainer = gd.closest('#notebook-container');\n",
       "if (notebookContainer) {{\n",
       "    x.observe(notebookContainer, {childList: true});\n",
       "}}\n",
       "\n",
       "// Listen for the clearing of the current output cell\n",
       "var outputEl = gd.closest('.output');\n",
       "if (outputEl) {{\n",
       "    x.observe(outputEl, {childList: true});\n",
       "}}\n",
       "\n",
       "                        })                };                });            </script>        </div>"
      ]
     },
     "metadata": {},
     "output_type": "display_data"
    }
   ],
   "source": [
    "import plotly.express as px\n",
    "import pandas as pd\n",
    "\n",
    "# Prepare data for the sunburst chart\n",
    "# First, create a new DataFrame for hierarchical structure\n",
    "sunburst_data = df.groupby(['Category', 'Import_Export']).agg({'Value': 'sum'}).reset_index()\n",
    "\n",
    "# Create the sunburst chart\n",
    "fig = px.sunburst(sunburst_data, \n",
    "                  path=['Category', 'Import_Export'],  # Hierarchy levels\n",
    "                  values='Value',                       # Values for sizing\n",
    "                  title='Sunburst Chart of Import/Export Values by Category',\n",
    "                  color='Value',                        # Color based on value\n",
    "                  color_continuous_scale='Viridis')    # Color scale\n",
    "\n",
    "# Show the sunburst chart\n",
    "fig.show()\n"
   ]
  },
  {
   "cell_type": "code",
   "execution_count": 80,
   "id": "793d438a-8951-4493-b31f-4310a5e1713f",
   "metadata": {},
   "outputs": [
    {
     "data": {
      "image/png": "[encoded data removed]",
      "text/plain": [
       "<Figure size 700x500 with 1 Axes>"
      ]
     },
     "metadata": {},
     "output_type": "display_data"
    }
   ],
   "source": [
    "import matplotlib.pyplot as plt\n",
    "import seaborn as sns\n",
    "\n",
    "# Box plot: Distribution of 'Value' based on 'Shipping_Method'\n",
    "plt.figure(figsize=(7, 5))\n",
    "sns.boxplot(x='Shipping_Method', y='Value', data=df)\n",
    "plt.title('Box Plot of Transaction Value by Shipping Method')\n",
    "plt.ylabel('Transaction Value')\n",
    "plt.xlabel('Shipping Method')\n",
    "plt.xticks(rotation=45)  # Rotate x-axis labels if needed\n",
    "plt.show()\n",
    "plt.style.use('ggplot')  # or try 'classic', 'fivethirtyeight', 'bmh', etc.\n"
   ]
  },
  {
   "cell_type": "code",
   "execution_count": 76,
   "id": "87d62fa8-07c6-4a4f-aae4-f4633c245920",
   "metadata": {},
   "outputs": [
    {
     "data": {
      "image/png": "[encoded data removed]",
      "text/plain": [
       "<Figure size 800x600 with 2 Axes>"
      ]
     },
     "metadata": {},
     "output_type": "display_data"
    }
   ],
   "source": [
    "# Heatmap: Correlation between numerical features\n",
    "plt.figure(figsize=(8, 6))\n",
    "correlation_matrix = df[['Quantity', 'Value', 'Weight']].corr()\n",
    "sns.heatmap(correlation_matrix, annot=True, cmap='coolwarm', linewidths=0.5)\n",
    "plt.title('Correlation Heatmap of Numerical Features')\n",
    "plt.show()"
   ]
  },
  {
   "cell_type": "code",
   "execution_count": null,
   "id": "3435ac7d-9fd1-4c1f-8e79-4d8383c7e1bb",
   "metadata": {},
   "outputs": [],
   "source": []
  }
 ],
 "metadata": {
  "kernelspec": {
   "display_name": "Python 3 (ipykernel)",
   "language": "python",
   "name": "python3"
  },
  "language_info": {
   "codemirror_mode": {
    "name": "ipython",
    "version": 3
   },
   "file_extension": ".py",
   "mimetype": "text/x-python",
   "name": "python",
   "nbconvert_exporter": "python",
   "pygments_lexer": "ipython3",
   "version": "3.12.4"
  }
 },
 "nbformat": 4,
 "nbformat_minor": 5
}
